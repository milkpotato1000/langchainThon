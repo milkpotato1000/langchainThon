{
 "cells": [
  {
   "cell_type": "code",
   "execution_count": 59,
   "id": "7af3cb2d-a2a3-4678-adb0-aed0935a73d6",
   "metadata": {},
   "outputs": [],
   "source": [
    "import os\n",
    "import tempfile\n",
    "import urllib3\n",
    "from dotenv import load_dotenv\n",
    "import streamlit as st\n",
    "\n",
    "# 경고 비활성화 (SSL 관련)\n",
    "urllib3.disable_warnings(urllib3.exceptions.InsecureRequestWarning)\n",
    "\n",
    "from openai import OpenAI\n",
    "from langchain_community.document_loaders import PyPDFLoader, Docx2txtLoader, WebBaseLoader\n",
    "from langchain.text_splitter import RecursiveCharacterTextSplitter\n",
    "from langchain_openai import OpenAIEmbeddings, ChatOpenAI\n",
    "from langchain_chroma import Chroma\n",
    "from langchain_core.prompts import ChatPromptTemplate\n",
    "from langchain_core.runnables import RunnablePassthrough\n",
    "from langchain_core.output_parsers import StrOutputParser\n",
    "from langchain.schema import Document"
   ]
  },
  {
   "cell_type": "code",
   "execution_count": 60,
   "id": "ad355284-e0cc-4b90-a93e-90d59d654c34",
   "metadata": {},
   "outputs": [],
   "source": [
    "#Chroma tenant 오류 방지 위한 코드\n",
    "import chromadb\n",
    "chromadb.api.client.SharedSystemClient.clear_system_cache()\n",
    "\n",
    "#오픈AI API 키 설정\n",
    "load_dotenv()  # 현재 경로의 .env 로드\n",
    "os.environ['OPENAI_API_KEY'] = os.getenv('OPENAI_API_KEY')\n",
    "if not os.environ['OPENAI_API_KEY']:\n",
    "    raise ValueError('OPENAI_API_KEY not found in environment. set it in .env or env vars')"
   ]
  },
  {
   "cell_type": "markdown",
   "id": "5cb14d70-0699-4556-bd0a-e6a73e33d360",
   "metadata": {},
   "source": [
    "## 1. 문서 불러오기"
   ]
  },
  {
   "cell_type": "code",
   "execution_count": 61,
   "id": "34e182d4",
   "metadata": {},
   "outputs": [],
   "source": [
    "import tempfile"
   ]
  },
  {
   "cell_type": "code",
   "execution_count": 62,
   "id": "9ded273f",
   "metadata": {},
   "outputs": [],
   "source": [
    "file_path = '../data/langchainThon/cv/경력기술서_천승우.docx'\n",
    "# 파일을 바이너리 모드로 읽어서 _file처럼 흉내내기\n",
    "class DummyFile:\n",
    "    def __init__(self, path):\n",
    "        self.name = path\n",
    "        with open(path, \"rb\") as f:\n",
    "            self._data = f.read()\n",
    "    def getvalue(self):\n",
    "        return self._data\n",
    "\n",
    "_file = DummyFile(file_path)"
   ]
  },
  {
   "cell_type": "code",
   "execution_count": 63,
   "id": "edb95b33",
   "metadata": {},
   "outputs": [],
   "source": [
    "def load_cv(_file):\n",
    "    with tempfile.NamedTemporaryFile(mode='wb', delete=False) as tmp_file:\n",
    "        tmp_file.write(_file.getvalue())\n",
    "        tmp_file_path = tmp_file.name\n",
    "        \n",
    "    #PDF 파일 업로드\n",
    "    if _file.name.endswith('.pdf'):\n",
    "        loader = PyPDFLoader(file_path=tmp_file_path)\n",
    "    \n",
    "    #Word 파일 업로드\n",
    "    elif _file.name.endswith('.docx'):\n",
    "        loader = Docx2txtLoader(file_path=tmp_file_path)\n",
    "    \n",
    "    # 파일 형식이 틀릴경우 에러 메세지 출력\n",
    "    else:\n",
    "        raise ValueError(\"지원하지 않는 파일 형식입니다. PDF 또는 DOCX만 업로드해주세요.\")\n",
    "    \n",
    "    pages = loader.load()\n",
    "\n",
    "    return pages"
   ]
  },
  {
   "cell_type": "code",
   "execution_count": 64,
   "id": "4e2c8e83",
   "metadata": {},
   "outputs": [
    {
     "name": "stdout",
     "output_type": "stream",
     "text": [
      "[Document(metadata={'source': 'C:\\\\Users\\\\user\\\\AppData\\\\Local\\\\Temp\\\\tmp9b__f75e'}, page_content='경력기술서\\n\\n[개인 정보]\\n\\n이메일: fourleaves8@gmail.com\\n\\n연락처: 010-4788-7980\\n\\n\\n\\n[전문 분야]\\n\\n• 데이터 사이언스       \\t\\t • AI 엔지니어링\\t\\n\\n• 데이터 분석           \\t\\t • 프롬프트 엔지니어링\\n\\n• 생물분자 및 화학공학 연구\\n\\n\\n\\n[요약]\\n\\n저는 생명·의학 데이터를 처리하고 분석 플랫폼을 구축한 경험 및 복잡한 데이터를 효율적으로 분석해 의사결정을 지원하는 역량을 갖추고 있습니다. Python 기반의 데이터 전처리, 알고리즘 고도화, 분류 및 예측 모델 개발을 통해 항암제 신규 적응증 탐색 플랫폼을 성공적으로 구현한 바 있습니다. 또한 데이터 수집·정규화·시각화 전 과정을 주도하며, 스타트업의 코스닥 상장 및 실제 제약사 프로젝트에 기여한 실무 경험을 쌓았습니다. \\n\\n\\n\\n[보유 역량 및 기술]\\n\\n프로그래밍 언어\\n\\nPython, R, SQL, Java\\n\\n도구 및 프레임워크\\n\\npandas, NumPy, Matplotlib, seaborn, Plotly, scikit-learn, PyTorch, TensorFlow, RAG, LangChain, MySQL, Oracle\\n\\n운영체제\\n\\nLinux(Ubuntu), Windows, macOS\\n\\nPalantir Foundry\\n\\nPipeline Builder, Contour, Ontology(Action), Workshop, AIP, Dataset\\n\\n기타\\n\\nVim / Vi, Git / GitHub, Bioinformatics Tools (Gene Set Enrichment Analysis, Bismark, Metilene, lifelines, survival, survminer, lifelines)\\n\\n\\n\\n[주요 경력 및 프로젝트]\\n\\n(주)온코크로스 · AI 연구소 · 주임연구원–전임연구원 · 2021.01–2024.12 (4년간 근무)\\n\\n\\n\\n<프로젝트1 : 항암제 신규 적응증 탐색 플랫폼 개발 프로젝트>\\n\\n1) 담당 업무 및 역할: 플랫폼 전체 기능 Python으로 재 구현, 내재화 및 오퍼레이션\\n\\n2) 프로젝트 상세 내용\\n\\n프로젝트 기간 : 2021.01–2024.01 (36개월)\\n\\n목표 및 역할 : 플랫폼 개발/운영 · 전사체 데이터 및 의료 메타데이터 관리/분석\\n\\n성과 (개인 기여도: 70%) :\\n\\n플랫폼 전체 기능 Python 구현 및 내재화 완료\\n\\n플랫폼 오퍼레이션 전반에 대한 유지, 보수, 관리 및 분석 프로젝트를 수행함\\n\\n공공 데이터베이스로부터 23개 암종에 걸쳐 약 24,000개 샘플 데이터를 수집하여 대규모 분석 기반을 구축함\\n\\n수집한 샘플 전사체 데이터 정규화 및 정량적 유전자 발현량으로 변환하여 분석 가능한 데이터셋을 구축함\\n\\n플랫폼 대표 성공 사례\\n\\n중국 ㅇㅇㅇ사 개발 신규 항암제의 주 적응증 예측 성공 및 잠재 적응증 후보 추가 제안\\n\\n국내 유명 제약사와 협업 – 후보물질 개발 단계 참여, 개발 물질에 대한 적응증 후보 도출, 최종 약물 타깃으로 선정되어 개발 지속\\n\\n상장 기술평가 항목 3가지 플랫폼 중 하나로서 회사 상장에 기여\\n\\nPython · R · pandas · NumPy · scikit-learn · Bioinformatics tools (survival, survminer, lifelines, GSEA, etc.) · Visualization packages (Matplotlib, seaborn, Plotly, etc.)\\n\\n\\n\\n<프로젝트2 : 항암제 플랫폼 고도화 프로젝트>\\n\\n1) 담당 업무 및 역할 : 암종 별, 유전자 예후 예측 스코어링 알고리즘 고도화\\n\\n2) 프로젝트 상세 내용\\n\\n프로젝트 기간 : 2024.01–2024.06 (6개월)\\n\\n목표 및 역할 : 23개 암종에 대한 유전자 별 예후 점수 스코어링 알고리즘 속도 2배 (100%) 이상 개선\\n\\n성과 (개인 기여도: 100%) : \\n\\n코어 스코어링 알고리즘 전면 수정\\n\\n알고리즘 스코어링 속도 1100% 향상\\n\\n알고리즘 개선 후 소요시간: 최대 1주일 (기존 알고리즘: 최소 3개월)\\n\\nPython · pandas · NumPy · scikit-learn · Bioinformatics tools (lifelines, GSEA, etc.) · Visualization packages (Matplotlib, seaborn, Plotly, etc.)\\n\\n\\n\\n<프로젝트3 : 엑체생검을 통한 암 조기 진단 모델 개발>\\n\\n1) 담당 업무 및 역할 : \\n\\ncfDNA, ctDNA 데이터 수집, 관리, 분석 \\n\\n메타데이터 관리 \\n\\n암 진단 딥러닝 모델 개발\\n\\n2) 프로젝트 상세 내용\\n\\n프로젝트 기간 : 2025.05–2025.11 (6개월)\\n\\n목표 및 역할 : 혈액 cfDNA, ctDNA 데이터 수집 및 활용, 암 여부 예측 딥러닝 모델 개발\\n\\n성과 (개인 기여도: 20%) : \\n\\n모델 훈련을 위한 데이터 수집 (3000샘플 이상)\\n\\n암 진단 CNN모델 개발 (Recall: 0.69, Precision: 0.64, ROC-AUC: 0.71)\\n\\nPython · pandas · NumPy · PyTorch, TensorFlow · scikit-learn · Bioinformatics tools (GSEA, Bismark, Metilene) · Visualization packages (Matplotlib, seaborn, Plotly, etc.)\\n\\n\\n\\n<프로젝트4 : 신규 COVID-19 치료 후보 약물 탐색 및 연구 결과 논문 게재>\\n\\n1) 담당 업무 및 역할 : Dry-lab 연구, 내용 정리 및 논문 작성\\n\\n2) 프로젝트 상세 내용\\n\\n프로젝트 기간 : 2024.01–present (21개월)\\n\\n목표 및 역할 : 공동 1저자(주 저자), 논문 Submission (2024.05.09)\\n\\n성과 (개인 기여도: 40%) : \\n\\n사내 플랫폼 활용 COVID-19 치료 유력 후보물질 발굴 성공\\n\\n연구 결과 Scientific reports 저널에 제출\\n\\n2025년 9월 현재까지 revision 진행중 (in press)\\n\\nPython · pandas · NumPy · scikit-learn · GSEA · Visualization packages (Matplotlib, seaborn)\\n\\n\\n\\n[자격증]\\n\\nOPIc(영어) · AL (Advanced Low) · 2024.09.20\\n\\n데이터 분석 준전문가 (ADsP) · 2025.09.05\\n\\n\\n\\n[교육 수료]\\n\\nGoogle Advanced Data Analytics – Foundations of Data Science\\n\\nGoogle Advanced Data Analytics – Get Started with Python\\n\\nGoogle Advanced Data Analytics – Go Beyond the Numbers: Translate Data into Insights\\n\\nGoogle Advanced Data Analytics – The Power of Statistics\\n\\nGoogle Advanced Data Analytics – Regression Analysis: Simplify Complex Data Relationships\\n\\nGoogle Advanced Data Analytics – The Nuts and Bolts of Machine Learning\\n\\nPalantir Foundry – Speedrun: Your First End-to-End Workflow\\n\\nPalantir Foundry – Speedrun: Your First AIP workflow\\n\\nPalantir Foundry – Deep Dive: Building Your First Pipeline\\n\\nPalantir Foundry – Deep Dive: Creating Your First Ontology\\n\\nPalantir Foundry – Deep Dive: Transforming Your Data with Code Repositories\\n\\nPalantir Foundry – Deep Dive: Building Your First Application\\n\\nPalantir Foundry – Deep Dive: Data Analysis in Contour\\n\\n모두의 연구소 – 데이터 사이언티스트 과정 Bootcamp (2025.06~현재 진행중)\\n\\n\\n\\n[학력]\\n\\n학위\\n\\n전공\\n\\n학교\\n\\n기간\\n\\n박사 (수료)\\n\\n생명화학공학\\n\\n한국과학기술원 (KAIST, 대전)\\n\\n2015.08 – 2020.09\\n\\n석사 (졸업)\\n\\n생명화학공학\\n\\n한국과학기술원 (KAIST, 대전)\\n\\n2015.08 – 2020.09\\n\\n학사 (졸업)\\n\\n생명과학\\n\\nVirginia Tech (미국)\\n\\n2011.08\\n\\n\\n\\n[기타]\\n\\nGithub Personal Project Repository\\n\\n(https://github.com/milkpotato1000/modulabs_projects)\\n\\nData Science & AI학습 블로그 \\n\\n(https://velog.io/@milkpotato1000/posts)\\n\\n\\n\\n\\n\\n     2')]\n"
     ]
    }
   ],
   "source": [
    "# cv pages\n",
    "print(load_cv(_file))"
   ]
  },
  {
   "cell_type": "code",
   "execution_count": 65,
   "id": "d332dca4",
   "metadata": {},
   "outputs": [],
   "source": [
    "def load_jd(_url: str):\n",
    "    loader = WebBaseLoader(_url)\n",
    "    loader.requests_kwargs = {'verify': False}  # SSL 검증 비활성화\n",
    "    \n",
    "    pages = loader.load()\n",
    "    \n",
    "    return pages"
   ]
  },
  {
   "cell_type": "code",
   "execution_count": 66,
   "id": "846c7821",
   "metadata": {},
   "outputs": [
    {
     "name": "stdout",
     "output_type": "stream",
     "text": [
      "[Document(metadata={'source': 'https://www.wanted.co.kr/wd/297589', 'title': '[임팩티브에이아이] [Deepflow] 데이터 사이언티스트 (Data Scientist) 채용 공고 | 원티드', 'description': '임팩티브에이아이의 [Deepflow] 데이터 사이언티스트 (Data Scientist) 포지션을 확인해 보세요. 취업·이직에 성공하면, 합격보상금 50만원을 드립니다.\\n포지션: [Deepflow] 데이터 사이언티스트 (Data Scientist)\\n회사 위치: 서울 강남구\\n자격 요건: • 시계열 예측 모델 및 시스템 구축 프로젝트 경험자\\n• 인공지능, 데이터과학, 전산학, 통계 등 관련 전공 석사학위 이상\\n• 머신러닝 및 데이터 분석 분야에서 5년 이상 경력 보유하신 분\\n주요 업무: 임팩티브AI의 데이터사이언티스트는 머신러닝/딥러닝 모델 구축, 시계열 예측, 데이터분석 업무를 수행하게 됩니다. \\n소프트웨어 엔지니어, 서비스 기획자, 도메인 전문가와 협력하여, 정확하고 확장가능한 예측모델을 개발 및 최적화하는 역할을 담당하게 됩니다.\\n\\n  • 수요예측 위한 데이터 분석 및 예측모델 설계/개발\\n  • 데이터 전처리 및 피처 엔지니어링\\n  • 인과 추론 및 설명가능성 구현을 위한 분석\\n  • 고객사 딜리버리 위한 예측모델 구축 및 배포\\n  • 최신 모델 및 데이터 분석 트렌드 연구 및 적용', 'language': 'ko-KR'}, page_content='[임팩티브에이아이] [Deepflow] 데이터 사이언티스트 (Data Scientist) 채용 공고 | 원티드채용이력서교육•이벤트콘텐츠소셜프리랜서더보기회원가입/로그인회원가입기업 서비스1/6임팩티브에이아이∙서울 강남구∙경력 5-12년[Deepflow] 데이터 사이언티스트 (Data Scientist)포지션 상세[임팩티브AI 소개]임팩티브AI는 수요예측에 특화된 AI 솔루션 전문기업입니다. 자체 솔루션 Deepflow 통해 제품 수요예측, 원자재 가격예측, 신제품 성과예측을 수행, 재고관리 및 원자재 구매관리 최적화를 실현합니다.  제조·유통 산업에서 기술력을 인정받으며, 고객사의 성과 창출을 지원하고 있습니다[AI 기반 예측 솔루션, Deepflow]•Deepflow Forecast - 제품의 향후 6~12개월 판매량과 출고량을 예측, 수요예측 기반의 재고관리 최적화•Deepflow Materials - 원자재 가격 변동 예측을 통해 최적의 구매 타이밍 확보•Deepflow NPD - 신제품 기획 단계에서 성과 예측을 통해 잘 팔릴 제품의 프로파일 도출•Deepflow Marketview - LLM 기반 모델로 소비자 페르소나를 분석하고 제품에 대한 선호도 예측[임팩티브AI의 강점]• 검증된 기술력과 특허   - 25년 7월 기준 61건의 AI관련 특허를 출원 및 등록하며 지속적으로 기술적 경쟁력을 확보해오고 있습니다.• 글로벌 확장 중   - 임팩티브AI는 글로벌 시장에서도 빠르게 성장하며 미국, 아프리카, 동남아 등으로 사업을 확장하고 있습니다.       특히 아프리카 지역의 AI교육봉사 등 사회공헌활동도 꾸준히 진행중입니다.[회사 성과]·  시리즈-A 82억원 투자 유치·  2024 과학기술정보통신부 장관상 수상·  2024 벤처창업진흥유공포상 중기부 장관상 수상·  2024년도 전년대비 매출 및 고객사 3.5배 성장·  AI관련 국내외 특허 61건 출원 및 등록·  독일 최대 모빌리티 플랫폼 드라이버리 베를린 마켓플레이스 대회 우승·  삼성금융 C-Lab Outside 삼성생명 보험금예측 모델개발 우수상 수상·  딥테크 팁스, 초격차 스타트업 1000+ 등 다수 사업 선정·  병역특례업체 선정주요업무임팩티브AI의 데이터사이언티스트는 머신러닝/딥러닝 모델 구축, 시계열 예측, 데이터분석 업무를 수행하게 됩니다. 소프트웨어 엔지니어, 서비스 기획자, 도메인 전문가와 협력하여, 정확하고 확장가능한 예측모델을 개발 및 최적화하는 역할을 담당하게 됩니다.  • 수요예측 위한 데이터 분석 및 예측모델 설계/개발  • 데이터 전처리 및 피처 엔지니어링  • 인과 추론 및 설명가능성 구현을 위한 분석  • 고객사 딜리버리 위한 예측모델 구축 및 배포  • 최신 모델 및 데이터 분석 트렌드 연구 및 적용자격요건• 시계열 예측 모델 및 시스템 구축 프로젝트 경험자• 인공지능, 데이터과학, 전산학, 통계 등 관련 전공 석사학위 이상• 머신러닝 및 데이터 분석 분야에서 5년 이상 경력 보유하신 분상세 정보 더 보기기술 스택 • 툴태그마감일2025.10.31근무지역강남구 테헤란로 507 WeWork빌딩 13층임팩티브에이아이IT, 컨텐츠팔로우본 채용정보는 원티드랩의 동의없이 무단전재, 재배포, 재가공할 수 없으며, 구직활동 이외의 용도로 사용할 수 없습니다.본 채용 정보는 에서 제공한 자료를 바탕으로 원티드랩에서 표현을 수정하고 이의 배열 및 구성을 편집하여 완성한 원티드랩의 저작자산이자 영업자산입니다. 본 정보 및 데이터베이스의 일부 내지는 전부에 대하여 원티드랩의 동의 없이 무단전재 또는 재배포, 재가공 및 크롤링할 수 없으며, 게재된 채용기업의 정보는 구직자의 구직활동 이외의 용도로 사용될 수 없습니다. 원티드랩은 에서 게재한 자료에 대한 오류나 그 밖에 원티드랩이 가공하지 않은 정보의 내용상 문제에 대하여 어떠한 보장도 하지 않으며, 사용자가 이를 신뢰하여 취한 조치에 대해 책임을 지지 않습니다.<저작권자 (주)원티드랩. 무단전재-재배포금지>아무리 찾아도 없던 포지션,\\n이제 에이전트로 바로 찾으세요!기업소개광고문의고객센터이용약관블로그개인정보 처리방침(주)원티드랩대표이사 이복기서울특별시 송파구 올림픽로 300, 롯데월드타워 35층전화번호: 02-539-7118사업자등록번호: 299-86-00021통신판매번호: 2020-서울송파-3147유료직업소개사업등록번호: (국내) 제2020-3230259-14-5-00018호채용서비스 문의원티드스페이스 문의원티드긱스 문의프리온보딩 문의취업지원시스템 문의IR 문의© 2025 Wanted Lab, Inc.')]\n"
     ]
    }
   ],
   "source": [
    "# jd pages\n",
    "print(load_jd('https://www.wanted.co.kr/wd/297589'))"
   ]
  },
  {
   "cell_type": "markdown",
   "id": "a4e03f9c-6738-40bf-8394-4d9896379b8c",
   "metadata": {},
   "source": [
    "## 2. 텍스트 나누기, 임베딩, 벡터DB 생성"
   ]
  },
  {
   "cell_type": "code",
   "execution_count": 67,
   "id": "16c9eb9f",
   "metadata": {},
   "outputs": [],
   "source": [
    "def chunk_documents(pages, source_label, chunk_size=500, chunk_overlap=100):\n",
    "    '''\n",
    "    페이지(Document list)들을 청크로 나누고 metadata를 추가하는 함수\n",
    "    - pages: Document list\n",
    "    - source_label: 'cv' 또는 'jd' 등 source 표시\n",
    "    - return: 청크가 나뉜 Document 리스트\n",
    "    '''\n",
    "    text_splitter = RecursiveCharacterTextSplitter(\n",
    "        separators=['\\n\\n', '\\n'],\n",
    "        chunk_size=chunk_size,\n",
    "        chunk_overlap=chunk_overlap,\n",
    "        length_function=len,\n",
    "        is_separator_regex=False\n",
    "    )\n",
    "\n",
    "    split_docs = text_splitter.split_documents(pages)\n",
    "\n",
    "    split_docs_with_meta = [\n",
    "        Document(page_content=d.page_content,\n",
    "                 metadata={'source': source_label, 'chunk_id': str(i)})\n",
    "        for i, d in enumerate(split_docs)\n",
    "    ]\n",
    "\n",
    "    return split_docs_with_meta"
   ]
  },
  {
   "cell_type": "code",
   "execution_count": 68,
   "id": "79a06502",
   "metadata": {},
   "outputs": [
    {
     "data": {
      "text/plain": [
       "[Document(metadata={'source': 'jd', 'chunk_id': '0'}, page_content='[임팩티브에이아이] [Deepflow] 데이터 사이언티스트 (Data Scientist) 채용 공고 | 원티드채용이력서교육•이벤트콘텐츠소셜프리랜서더보기회원가입/로그인회원가입기업 서비스1/6임팩티브에이아이∙서울 강남구∙경력 5-12년[Deepflow] 데이터 사이언티스트 (Data Scientist)포지션 상세[임팩티브AI 소개]임팩티브AI는 수요예측에 특화된 AI 솔루션 전문기업입니다. 자체 솔루션 Deepflow 통해 제품 수요예측, 원자재 가격예측, 신제품 성과예측을 수행, 재고관리 및 원자재 구매관리 최적화를 실현합니다.  제조·유통 산업에서 기술력을 인정받으며, 고객사의 성과 창출을 지원하고 있습니다[AI 기반 예측 솔루션, Deepflow]•Deepflow Forecast - 제품의 향후 6~12개월 판매량과 출고량을 예측, 수요예측 기반의 재고관리 최적화•Deepflow Materials - 원자재 가격 변동 예측을 통해 최적의 구매 타이밍 확보•Deepflow NPD - 신제품 기획 단계에서 성과 예측을 통해 잘 팔릴 제품의 프로파일 도출•Deepflow Marketview - LLM 기반 모델로 소비자 페르소나를 분석하고 제품에 대한 선호도 예측[임팩티브AI의 강점]• 검증된 기술력과 특허   - 25년 7월 기준 61건의 AI관련 특허를 출원 및 등록하며 지속적으로 기술적 경쟁력을 확보해오고 있습니다.• 글로벌 확장 중   - 임팩티브AI는 글로벌 시장에서도 빠르게 성장하며 미국, 아프리카, 동남아 등으로 사업을 확장하고 있습니다.       특히 아프리카 지역의 AI교육봉사 등 사회공헌활동도 꾸준히 진행중입니다.[회사 성과]·  시리즈-A 82억원 투자 유치·  2024 과학기술정보통신부 장관상 수상·  2024 벤처창업진흥유공포상 중기부 장관상 수상·  2024년도 전년대비 매출 및 고객사 3.5배 성장·  AI관련 국내외 특허 61건 출원 및 등록·  독일 최대 모빌리티 플랫폼 드라이버리 베를린 마켓플레이스 대회 우승·  삼성금융 C-Lab Outside 삼성생명 보험금예측 모델개발 우수상 수상·  딥테크 팁스, 초격차 스타트업 1000+ 등 다수 사업 선정·  병역특례업체 선정주요업무임팩티브AI의 데이터사이언티스트는 머신러닝/딥러닝 모델 구축, 시계열 예측, 데이터분석 업무를 수행하게 됩니다. 소프트웨어 엔지니어, 서비스 기획자, 도메인 전문가와 협력하여, 정확하고 확장가능한 예측모델을 개발 및 최적화하는 역할을 담당하게 됩니다.  • 수요예측 위한 데이터 분석 및 예측모델 설계/개발  • 데이터 전처리 및 피처 엔지니어링  • 인과 추론 및 설명가능성 구현을 위한 분석  • 고객사 딜리버리 위한 예측모델 구축 및 배포  • 최신 모델 및 데이터 분석 트렌드 연구 및 적용자격요건• 시계열 예측 모델 및 시스템 구축 프로젝트 경험자• 인공지능, 데이터과학, 전산학, 통계 등 관련 전공 석사학위 이상• 머신러닝 및 데이터 분석 분야에서 5년 이상 경력 보유하신 분상세 정보 더 보기기술 스택 • 툴태그마감일2025.10.31근무지역강남구 테헤란로 507 WeWork빌딩 13층임팩티브에이아이IT, 컨텐츠팔로우본 채용정보는 원티드랩의 동의없이 무단전재, 재배포, 재가공할 수 없으며, 구직활동 이외의 용도로 사용할 수 없습니다.본 채용 정보는 에서 제공한 자료를 바탕으로 원티드랩에서 표현을 수정하고 이의 배열 및 구성을 편집하여 완성한 원티드랩의 저작자산이자 영업자산입니다. 본 정보 및 데이터베이스의 일부 내지는 전부에 대하여 원티드랩의 동의 없이 무단전재 또는 재배포, 재가공 및 크롤링할 수 없으며, 게재된 채용기업의 정보는 구직자의 구직활동 이외의 용도로 사용될 수 없습니다. 원티드랩은 에서 게재한 자료에 대한 오류나 그 밖에 원티드랩이 가공하지 않은 정보의 내용상 문제에 대하여 어떠한 보장도 하지 않으며, 사용자가 이를 신뢰하여 취한 조치에 대해 책임을 지지 않습니다.<저작권자 (주)원티드랩. 무단전재-재배포금지>아무리 찾아도 없던 포지션,'),\n",
       " Document(metadata={'source': 'jd', 'chunk_id': '1'}, page_content='이제 에이전트로 바로 찾으세요!기업소개광고문의고객센터이용약관블로그개인정보 처리방침(주)원티드랩대표이사 이복기서울특별시 송파구 올림픽로 300, 롯데월드타워 35층전화번호: 02-539-7118사업자등록번호: 299-86-00021통신판매번호: 2020-서울송파-3147유료직업소개사업등록번호: (국내) 제2020-3230259-14-5-00018호채용서비스 문의원티드스페이스 문의원티드긱스 문의프리온보딩 문의취업지원시스템 문의IR 문의© 2025 Wanted Lab, Inc.')]"
      ]
     },
     "execution_count": 68,
     "metadata": {},
     "output_type": "execute_result"
    }
   ],
   "source": [
    "chunk_documents(load_jd('https://www.wanted.co.kr/wd/297589'), 'jd')"
   ]
  },
  {
   "cell_type": "code",
   "execution_count": 69,
   "id": "8983914b",
   "metadata": {},
   "outputs": [],
   "source": [
    "def create_vector_store(_cv, _jd):\n",
    "    cv_docs = chunk_documents(_cv, 'cv')\n",
    "    jd_docs = chunk_documents(_jd, 'jd')\n",
    "\n",
    "    # OpenAIEmbeddings\n",
    "    embeddings_model = OpenAIEmbeddings(model='text-embedding-3-small')\n",
    "    \n",
    "    # 새 vectorstore 생성\n",
    "    vectorstore = Chroma.from_documents(\n",
    "        documents=(cv_docs+jd_docs),\n",
    "        embedding=embeddings_model,\n",
    "        persist_directory=None\n",
    "    )\n",
    "    return vectorstore"
   ]
  },
  {
   "cell_type": "code",
   "execution_count": 70,
   "id": "3d3fa386",
   "metadata": {},
   "outputs": [],
   "source": [
    "vectorstore = create_vector_store(_cv=load_cv(_file), _jd=load_jd('https://www.wanted.co.kr/wd/297589'))"
   ]
  },
  {
   "cell_type": "code",
   "execution_count": 71,
   "id": "3628b5f0",
   "metadata": {},
   "outputs": [
    {
     "data": {
      "text/plain": [
       "11"
      ]
     },
     "execution_count": 71,
     "metadata": {},
     "output_type": "execute_result"
    }
   ],
   "source": [
    "cv_docs_count = len([\n",
    "    d for d in vectorstore._collection.get(include=['metadatas', 'documents'])['metadatas']\n",
    "    if d['source'] == 'cv'\n",
    "])\n",
    "cv_docs_count"
   ]
  },
  {
   "cell_type": "code",
   "execution_count": 72,
   "id": "0cd31beb",
   "metadata": {},
   "outputs": [
    {
     "data": {
      "text/plain": [
       "2"
      ]
     },
     "execution_count": 72,
     "metadata": {},
     "output_type": "execute_result"
    }
   ],
   "source": [
    "jd_docs_count = len([\n",
    "    d for d in vectorstore._collection.get(include=[\"metadatas\", \"documents\"])['metadatas']\n",
    "    if d['source'] == 'jd'\n",
    "])\n",
    "jd_docs_count"
   ]
  },
  {
   "cell_type": "code",
   "execution_count": 73,
   "id": "403ecd27",
   "metadata": {},
   "outputs": [
    {
     "data": {
      "text/plain": [
       "13"
      ]
     },
     "execution_count": 73,
     "metadata": {},
     "output_type": "execute_result"
    }
   ],
   "source": [
    "vectorstore._collection.count()"
   ]
  },
  {
   "cell_type": "markdown",
   "id": "9892ff3d-0588-4085-ac2d-1d37669a4b43",
   "metadata": {
    "jp-MarkdownHeadingCollapsed": true
   },
   "source": [
    "## 3. Retriever 구성 (검색 옵션: simple similarity or MMR)"
   ]
  },
  {
   "cell_type": "code",
   "execution_count": 45,
   "id": "06a4aa80-ccdb-43da-af34-d25f347c16fb",
   "metadata": {},
   "outputs": [],
   "source": [
    "# retriever 설정\n",
    "retriever = vectorstore.as_retriever(\n",
    "    search_type=\"mmr\",  # 다양성을 고려한 검색\n",
    "    search_kwargs={\n",
    "        \"k\": 5,       # 최종 반환할 문서 수\n",
    "        \"fetch_k\": 20  # 검색 후보로 고려할 청크 수\n",
    "    }\n",
    ")\n",
    "\n",
    "query = \"내가 다녔던 회사를 알아맞춰봐\"\n",
    "docs = retriever.invoke(query)\n",
    "\n",
    "# 청크 내용을 하나로 합쳐서 GPT-40-mini에 전달\n",
    "context = \"\\n\\n\".join([d.page_content for d in docs])"
   ]
  },
  {
   "cell_type": "code",
   "execution_count": 46,
   "id": "4009955d",
   "metadata": {},
   "outputs": [
    {
     "data": {
      "text/plain": [
       "[Document(id='7ebe68dc-4e5b-4fcf-a6de-6bbd0bf988e4', metadata={'chunk_id': '5', 'source': 'jd'}, page_content='이제 에이전트로 바로 찾으세요!기업소개광고문의고객센터이용약관블로그개인정보 처리방침(주)원티드랩대표이사 이복기서울특별시 송파구 올림픽로 300, 롯데월드타워 35층전화번호: 02-539-7118사업자등록번호: 299-86-00021통신판매번호: 2020-서울송파-3147유료직업소개사업등록번호: (국내) 제2020-3230259-14-5-00018호채용서비스 문의원티드스페이스 문의원티드긱스 문의프리온보딩 문의취업지원시스템 문의IR 문의© 2025 Wanted Lab, Inc.'),\n",
       " Document(id='fb654c8a-cdfb-4f7a-afaa-3f4afef590cb', metadata={'chunk_id': '0', 'source': 'jd'}, page_content='[임팩티브에이아이] [Deepflow] 데이터 사이언티스트 (Data Scientist) 채용 공고 | 원티드채용이력서교육•이벤트콘텐츠소셜프리랜서더보기회원가입/로그인회원가입기업 서비스1/6임팩티브에이아이∙서울 강남구∙경력 5-12년[Deepflow] 데이터 사이언티스트 (Data Scientist)포지션 상세[임팩티브AI 소개]임팩티브AI는 수요예측에 특화된 AI 솔루션 전문기업입니다. 자체 솔루션 Deepflow 통해 제품 수요예측, 원자재 가격예측, 신제품 성과예측을 수행, 재고관리 및 원자재 구매관리 최적화를 실현합니다.  제조·유통 산업에서 기술력을 인정받으며, 고객사의 성과 창출을 지원하고 있습니다[AI 기반 예측 솔루션, Deepflow]•Deepflow Forecast - 제품의 향후 6~12개월 판매량과 출고량을 예측, 수요예측 기반의 재고관리 최적화•Deepflow Materials - 원자재 가격 변동 예측을 통해 최적의 구매 타이밍 확보•Deepflow NPD -'),\n",
       " Document(id='3035c7fe-6a10-4994-ad5a-2d0ceb2229a7', metadata={'chunk_id': '1', 'source': 'cv'}, page_content='[보유 역량 및 기술]\\n\\n프로그래밍 언어\\n\\nPython, R, SQL, Java\\n\\n도구 및 프레임워크\\n\\npandas, NumPy, Matplotlib, seaborn, Plotly, scikit-learn, PyTorch, TensorFlow, RAG, LangChain, MySQL, Oracle\\n\\n운영체제\\n\\nLinux(Ubuntu), Windows, macOS\\n\\nPalantir Foundry\\n\\nPipeline Builder, Contour, Ontology(Action), Workshop, AIP, Dataset\\n\\n기타\\n\\nVim / Vi, Git / GitHub, Bioinformatics Tools (Gene Set Enrichment Analysis, Bismark, Metilene, lifelines, survival, survminer, lifelines)\\n\\n\\n\\n[주요 경력 및 프로젝트]'),\n",
       " Document(id='8f7cd7c7-2026-456d-8a83-dd82c92a2ce1', metadata={'source': 'jd', 'chunk_id': '4'}, page_content='용도로 사용할 수 없습니다.본 채용 정보는 에서 제공한 자료를 바탕으로 원티드랩에서 표현을 수정하고 이의 배열 및 구성을 편집하여 완성한 원티드랩의 저작자산이자 영업자산입니다. 본 정보 및 데이터베이스의 일부 내지는 전부에 대하여 원티드랩의 동의 없이 무단전재 또는 재배포, 재가공 및 크롤링할 수 없으며, 게재된 채용기업의 정보는 구직자의 구직활동 이외의 용도로 사용될 수 없습니다. 원티드랩은 에서 게재한 자료에 대한 오류나 그 밖에 원티드랩이 가공하지 않은 정보의 내용상 문제에 대하여 어떠한 보장도 하지 않으며, 사용자가 이를 신뢰하여 취한 조치에 대해 책임을 지지 않습니다.<저작권자 (주)원티드랩. 무단전재-재배포금지>아무리 찾아도 없던 포지션,'),\n",
       " Document(id='d7490aeb-ff06-473c-bc5e-41fb18f02bdb', metadata={'chunk_id': '2', 'source': 'jd'}, page_content='꾸준히 진행중입니다.[회사 성과]·  시리즈-A 82억원 투자 유치·  2024 과학기술정보통신부 장관상 수상·  2024 벤처창업진흥유공포상 중기부 장관상 수상·  2024년도 전년대비 매출 및 고객사 3.5배 성장·  AI관련 국내외 특허 61건 출원 및 등록·  독일 최대 모빌리티 플랫폼 드라이버리 베를린 마켓플레이스 대회 우승·  삼성금융 C-Lab Outside 삼성생명 보험금예측 모델개발 우수상 수상·  딥테크 팁스, 초격차 스타트업 1000+ 등 다수 사업 선정·  병역특례업체 선정주요업무임팩티브AI의 데이터사이언티스트는 머신러닝/딥러닝 모델 구축, 시계열 예측, 데이터분석 업무를 수행하게 됩니다. 소프트웨어 엔지니어, 서비스 기획자, 도메인 전문가와 협력하여, 정확하고 확장가능한 예측모델을 개발 및 최적화하는 역할을 담당하게 됩니다.  • 수요예측 위한 데이터 분석 및 예측모델 설계/개발  • 데이터 전처리 및 피처 엔지니어링  • 인과 추론 및 설명가능성 구현을')]"
      ]
     },
     "execution_count": 46,
     "metadata": {},
     "output_type": "execute_result"
    }
   ],
   "source": [
    "docs"
   ]
  },
  {
   "cell_type": "markdown",
   "id": "4cecfacb-ba53-469c-8142-84ce57500719",
   "metadata": {
    "jp-MarkdownHeadingCollapsed": true
   },
   "source": [
    "## 4. 검색 → LLM에 컨텍스트 전달 → 응답 받기"
   ]
  },
  {
   "cell_type": "code",
   "execution_count": 31,
   "id": "8596d11f",
   "metadata": {},
   "outputs": [
    {
     "name": "stdout",
     "output_type": "stream",
     "text": [
      "당신이 다녔던 회사는 \"임팩티브에이아이\"입니다. 이 회사는 AI 솔루션 전문기업으로, 제품 수요 예측, 원자재 가격 예측 및 신제품 성과 예측 등 다양한 분야에서 기술력을 인정받고 있습니다.\n"
     ]
    }
   ],
   "source": [
    "client = OpenAI()\n",
    "response = client.chat.completions.create(\n",
    "    model='gpt-4o-mini', \n",
    "    messages=[\n",
    "        {'role': 'system', 'content': '다음 정보를 기반으로 사용자가 다녔던 회사를 알려주세요.'},\n",
    "        {'role': 'user', 'content': context + '\\n\\n질문: ' + query}\n",
    "    ]\n",
    ")\n",
    "\n",
    "print(response.choices[0].message.content)"
   ]
  }
 ],
 "metadata": {
  "kernelspec": {
   "display_name": "ragenv",
   "language": "python",
   "name": "python3"
  },
  "language_info": {
   "codemirror_mode": {
    "name": "ipython",
    "version": 3
   },
   "file_extension": ".py",
   "mimetype": "text/x-python",
   "name": "python",
   "nbconvert_exporter": "python",
   "pygments_lexer": "ipython3",
   "version": "3.13.7"
  }
 },
 "nbformat": 4,
 "nbformat_minor": 5
}
