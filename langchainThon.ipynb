{
 "cells": [
  {
   "cell_type": "code",
   "execution_count": null,
   "id": "7af3cb2d-a2a3-4678-adb0-aed0935a73d6",
   "metadata": {},
   "outputs": [
    {
     "name": "stderr",
     "output_type": "stream",
     "text": [
      "USER_AGENT environment variable not set, consider setting it to identify your requests.\n"
     ]
    }
   ],
   "source": [
    "import os\n",
    "import tempfile\n",
    "import urllib3\n",
    "urllib3.disable_warnings(urllib3.exceptions.InsecureRequestWarning)\n",
    "from dotenv import load_dotenv\n",
    "import streamlit as st\n",
    "import uuid\n",
    "\n",
    "from langchain_community.document_loaders import PyPDFLoader, Docx2txtLoader, WebBaseLoader\n",
    "from langchain.text_splitter import RecursiveCharacterTextSplitter\n",
    "from langchain_openai import OpenAIEmbeddings, ChatOpenAI\n",
    "from langchain.vectorstores import Chroma\n",
    "from langchain.prompts import PromptTemplate\n",
    "from langchain_core.prompts import ChatPromptTemplate\n",
    "from langchain_core.runnables import RunnablePassthrough\n",
    "from langchain_core.output_parsers import StrOutputParser\n",
    "from langchain.output_parsers import ResponseSchema, StructuredOutputParser\n",
    "from langchain.schema import Document\n",
    "from langchain.chains import LLMRouterChain, MultiRetrievalQAChain, RetrievalQA\n",
    "from langchain.retrievers import MultiVectorRetriever"
   ]
  },
  {
   "cell_type": "code",
   "execution_count": null,
   "id": "ad355284-e0cc-4b90-a93e-90d59d654c34",
   "metadata": {},
   "outputs": [],
   "source": [
    "#오픈AI API 키 설정\n",
    "load_dotenv()  # 현재 경로의 .env 로드\n",
    "os.environ['OPENAI_API_KEY'] = os.getenv('OPENAI_API_KEY')\n",
    "if not os.environ['OPENAI_API_KEY']:\n",
    "    raise ValueError('OPENAI_API_KEY not found in environment. set it in .env or env vars')"
   ]
  },
  {
   "cell_type": "markdown",
   "id": "5cb14d70-0699-4556-bd0a-e6a73e33d360",
   "metadata": {},
   "source": [
    "## 1. 문서 불러오기"
   ]
  },
  {
   "cell_type": "code",
   "execution_count": 3,
   "id": "34e182d4",
   "metadata": {},
   "outputs": [],
   "source": [
    "import tempfile"
   ]
  },
  {
   "cell_type": "code",
   "execution_count": 4,
   "id": "9ded273f",
   "metadata": {},
   "outputs": [],
   "source": [
    "file_path = '../data/langchainThon/cv/경력기술서_천승우.docx'\n",
    "# 파일을 바이너리 모드로 읽어서 _file처럼 흉내내기\n",
    "class DummyFile:\n",
    "    def __init__(self, path):\n",
    "        self.name = path\n",
    "        with open(path, \"rb\") as f:\n",
    "            self._data = f.read()\n",
    "    def getvalue(self):\n",
    "        return self._data\n",
    "\n",
    "_file = DummyFile(file_path)"
   ]
  },
  {
   "cell_type": "code",
   "execution_count": 5,
   "id": "edb95b33",
   "metadata": {},
   "outputs": [],
   "source": [
    "def load_cv(_file):\n",
    "    with tempfile.NamedTemporaryFile(mode='wb', delete=False) as tmp_file:\n",
    "        tmp_file.write(_file.getvalue())\n",
    "        tmp_file_path = tmp_file.name\n",
    "        \n",
    "    #PDF 파일 업로드\n",
    "    if _file.name.endswith('.pdf'):\n",
    "        loader = PyPDFLoader(file_path=tmp_file_path)\n",
    "    \n",
    "    #Word 파일 업로드\n",
    "    elif _file.name.endswith('.docx'):\n",
    "        loader = Docx2txtLoader(file_path=tmp_file_path)\n",
    "    \n",
    "    # 파일 형식이 틀릴경우 에러 메세지 출력\n",
    "    else:\n",
    "        raise ValueError(\"지원하지 않는 파일 형식입니다. PDF 또는 DOCX만 업로드해주세요.\")\n",
    "    \n",
    "    pages = loader.load()\n",
    "    return pages"
   ]
  },
  {
   "cell_type": "code",
   "execution_count": 6,
   "id": "b1d6909a",
   "metadata": {},
   "outputs": [
    {
     "data": {
      "text/plain": [
       "[Document(metadata={'source': 'C:\\\\Users\\\\user\\\\AppData\\\\Local\\\\Temp\\\\tmpx1ivf2l6'}, page_content='경력기술서\\n\\n[개인 정보]\\n\\n이메일: fourleaves8@gmail.com\\n\\n연락처: 010-4788-7980\\n\\n\\n\\n[전문 분야]\\n\\n• 데이터 사이언스       \\t\\t • AI 엔지니어링\\t\\n\\n• 데이터 분석           \\t\\t • 프롬프트 엔지니어링\\n\\n• 생물분자 및 화학공학 연구\\n\\n\\n\\n[요약]\\n\\n저는 생명·의학 데이터를 처리하고 분석 플랫폼을 구축한 경험 및 복잡한 데이터를 효율적으로 분석해 의사결정을 지원하는 역량을 갖추고 있습니다. Python 기반의 데이터 전처리, 알고리즘 고도화, 분류 및 예측 모델 개발을 통해 항암제 신규 적응증 탐색 플랫폼을 성공적으로 구현한 바 있습니다. 또한 데이터 수집·정규화·시각화 전 과정을 주도하며, 스타트업의 코스닥 상장 및 실제 제약사 프로젝트에 기여한 실무 경험을 쌓았습니다. \\n\\n\\n\\n[보유 역량 및 기술]\\n\\n프로그래밍 언어\\n\\nPython, R, SQL, Java\\n\\n도구 및 프레임워크\\n\\npandas, NumPy, Matplotlib, seaborn, Plotly, scikit-learn, PyTorch, TensorFlow, RAG, LangChain, MySQL, Oracle\\n\\n운영체제\\n\\nLinux(Ubuntu), Windows, macOS\\n\\nPalantir Foundry\\n\\nPipeline Builder, Contour, Ontology(Action), Workshop, AIP, Dataset\\n\\n기타\\n\\nVim / Vi, Git / GitHub, Bioinformatics Tools (Gene Set Enrichment Analysis, Bismark, Metilene, lifelines, survival, survminer, lifelines)\\n\\n\\n\\n[주요 경력 및 프로젝트]\\n\\n(주)온코크로스 · AI 연구소 · 주임연구원–전임연구원 · 2021.01–2024.12 (4년간 근무)\\n\\n\\n\\n<프로젝트1 : 항암제 신규 적응증 탐색 플랫폼 개발 프로젝트>\\n\\n1) 담당 업무 및 역할: 플랫폼 전체 기능 Python으로 재 구현, 내재화 및 오퍼레이션\\n\\n2) 프로젝트 상세 내용\\n\\n프로젝트 기간 : 2021.01–2024.01 (36개월)\\n\\n목표 및 역할 : 플랫폼 개발/운영 · 전사체 데이터 및 의료 메타데이터 관리/분석\\n\\n성과 (개인 기여도: 70%) :\\n\\n플랫폼 전체 기능 Python 구현 및 내재화 완료\\n\\n플랫폼 오퍼레이션 전반에 대한 유지, 보수, 관리 및 분석 프로젝트를 수행함\\n\\n공공 데이터베이스로부터 23개 암종에 걸쳐 약 24,000개 샘플 데이터를 수집하여 대규모 분석 기반을 구축함\\n\\n수집한 샘플 전사체 데이터 정규화 및 정량적 유전자 발현량으로 변환하여 분석 가능한 데이터셋을 구축함\\n\\n플랫폼 대표 성공 사례\\n\\n중국 ㅇㅇㅇ사 개발 신규 항암제의 주 적응증 예측 성공 및 잠재 적응증 후보 추가 제안\\n\\n국내 유명 제약사와 협업 – 후보물질 개발 단계 참여, 개발 물질에 대한 적응증 후보 도출, 최종 약물 타깃으로 선정되어 개발 지속\\n\\n상장 기술평가 항목 3가지 플랫폼 중 하나로서 회사 상장에 기여\\n\\nPython · R · pandas · NumPy · scikit-learn · Bioinformatics tools (survival, survminer, lifelines, GSEA, etc.) · Visualization packages (Matplotlib, seaborn, Plotly, etc.)\\n\\n\\n\\n<프로젝트2 : 항암제 플랫폼 고도화 프로젝트>\\n\\n1) 담당 업무 및 역할 : 암종 별, 유전자 예후 예측 스코어링 알고리즘 고도화\\n\\n2) 프로젝트 상세 내용\\n\\n프로젝트 기간 : 2024.01–2024.06 (6개월)\\n\\n목표 및 역할 : 23개 암종에 대한 유전자 별 예후 점수 스코어링 알고리즘 속도 2배 (100%) 이상 개선\\n\\n성과 (개인 기여도: 100%) : \\n\\n코어 스코어링 알고리즘 전면 수정\\n\\n알고리즘 스코어링 속도 1100% 향상\\n\\n알고리즘 개선 후 소요시간: 최대 1주일 (기존 알고리즘: 최소 3개월)\\n\\nPython · pandas · NumPy · scikit-learn · Bioinformatics tools (lifelines, GSEA, etc.) · Visualization packages (Matplotlib, seaborn, Plotly, etc.)\\n\\n\\n\\n<프로젝트3 : 엑체생검을 통한 암 조기 진단 모델 개발>\\n\\n1) 담당 업무 및 역할 : \\n\\ncfDNA, ctDNA 데이터 수집, 관리, 분석 \\n\\n메타데이터 관리 \\n\\n암 진단 딥러닝 모델 개발\\n\\n2) 프로젝트 상세 내용\\n\\n프로젝트 기간 : 2025.05–2025.11 (6개월)\\n\\n목표 및 역할 : 혈액 cfDNA, ctDNA 데이터 수집 및 활용, 암 여부 예측 딥러닝 모델 개발\\n\\n성과 (개인 기여도: 20%) : \\n\\n모델 훈련을 위한 데이터 수집 (3000샘플 이상)\\n\\n암 진단 CNN모델 개발 (Recall: 0.69, Precision: 0.64, ROC-AUC: 0.71)\\n\\nPython · pandas · NumPy · PyTorch, TensorFlow · scikit-learn · Bioinformatics tools (GSEA, Bismark, Metilene) · Visualization packages (Matplotlib, seaborn, Plotly, etc.)\\n\\n\\n\\n<프로젝트4 : 신규 COVID-19 치료 후보 약물 탐색 및 연구 결과 논문 게재>\\n\\n1) 담당 업무 및 역할 : Dry-lab 연구, 내용 정리 및 논문 작성\\n\\n2) 프로젝트 상세 내용\\n\\n프로젝트 기간 : 2024.01–present (21개월)\\n\\n목표 및 역할 : 공동 1저자(주 저자), 논문 Submission (2024.05.09)\\n\\n성과 (개인 기여도: 40%) : \\n\\n사내 플랫폼 활용 COVID-19 치료 유력 후보물질 발굴 성공\\n\\n연구 결과 Scientific reports 저널에 제출\\n\\n2025년 9월 현재까지 revision 진행중 (in press)\\n\\nPython · pandas · NumPy · scikit-learn · GSEA · Visualization packages (Matplotlib, seaborn)\\n\\n\\n\\n[자격증]\\n\\nOPIc(영어) · AL (Advanced Low) · 2024.09.20\\n\\n데이터 분석 준전문가 (ADsP) · 2025.09.05\\n\\n\\n\\n[교육 수료]\\n\\nGoogle Advanced Data Analytics – Foundations of Data Science\\n\\nGoogle Advanced Data Analytics – Get Started with Python\\n\\nGoogle Advanced Data Analytics – Go Beyond the Numbers: Translate Data into Insights\\n\\nGoogle Advanced Data Analytics – The Power of Statistics\\n\\nGoogle Advanced Data Analytics – Regression Analysis: Simplify Complex Data Relationships\\n\\nGoogle Advanced Data Analytics – The Nuts and Bolts of Machine Learning\\n\\nPalantir Foundry – Speedrun: Your First End-to-End Workflow\\n\\nPalantir Foundry – Speedrun: Your First AIP workflow\\n\\nPalantir Foundry – Deep Dive: Building Your First Pipeline\\n\\nPalantir Foundry – Deep Dive: Creating Your First Ontology\\n\\nPalantir Foundry – Deep Dive: Transforming Your Data with Code Repositories\\n\\nPalantir Foundry – Deep Dive: Building Your First Application\\n\\nPalantir Foundry – Deep Dive: Data Analysis in Contour\\n\\n모두의 연구소 – 데이터 사이언티스트 과정 Bootcamp (2025.06~현재 진행중)\\n\\n\\n\\n[학력]\\n\\n학위\\n\\n전공\\n\\n학교\\n\\n기간\\n\\n박사 (수료)\\n\\n생명화학공학\\n\\n한국과학기술원 (KAIST, 대전)\\n\\n2015.08 – 2020.09\\n\\n석사 (졸업)\\n\\n생명화학공학\\n\\n한국과학기술원 (KAIST, 대전)\\n\\n2015.08 – 2020.09\\n\\n학사 (졸업)\\n\\n생명과학\\n\\nVirginia Tech (미국)\\n\\n2011.08\\n\\n\\n\\n[기타]\\n\\nGithub Personal Project Repository\\n\\n(https://github.com/milkpotato1000/modulabs_projects)\\n\\nData Science & AI학습 블로그 \\n\\n(https://velog.io/@milkpotato1000/posts)\\n\\n\\n\\n\\n\\n     2')]"
      ]
     },
     "execution_count": 6,
     "metadata": {},
     "output_type": "execute_result"
    }
   ],
   "source": [
    "cv_pages = load_cv(_file)\n",
    "cv_pages"
   ]
  },
  {
   "cell_type": "code",
   "execution_count": 7,
   "id": "d332dca4",
   "metadata": {},
   "outputs": [],
   "source": [
    "def load_jd(_url: str):\n",
    "    loader = WebBaseLoader(_url)\n",
    "    loader.requests_kwargs = {'verify': False}  # SSL 검증 비활성화\n",
    "    return loader.load()"
   ]
  },
  {
   "cell_type": "code",
   "execution_count": 8,
   "id": "846c7821",
   "metadata": {},
   "outputs": [
    {
     "data": {
      "text/plain": [
       "[Document(metadata={'source': 'https://www.wanted.co.kr/wd/297589', 'title': '[임팩티브에이아이] [Deepflow] 데이터 사이언티스트 (Data Scientist) 채용 공고 | 원티드', 'description': '임팩티브에이아이의 [Deepflow] 데이터 사이언티스트 (Data Scientist) 포지션을 확인해 보세요. 취업·이직에 성공하면, 합격보상금 50만원을 드립니다.\\n포지션: [Deepflow] 데이터 사이언티스트 (Data Scientist)\\n회사 위치: 서울 강남구\\n자격 요건: • 시계열 예측 모델 및 시스템 구축 프로젝트 경험자\\n• 인공지능, 데이터과학, 전산학, 통계 등 관련 전공 석사학위 이상\\n• 머신러닝 및 데이터 분석 분야에서 5년 이상 경력 보유하신 분\\n주요 업무: 임팩티브AI의 데이터사이언티스트는 머신러닝/딥러닝 모델 구축, 시계열 예측, 데이터분석 업무를 수행하게 됩니다. \\n소프트웨어 엔지니어, 서비스 기획자, 도메인 전문가와 협력하여, 정확하고 확장가능한 예측모델을 개발 및 최적화하는 역할을 담당하게 됩니다.\\n\\n  • 수요예측 위한 데이터 분석 및 예측모델 설계/개발\\n  • 데이터 전처리 및 피처 엔지니어링\\n  • 인과 추론 및 설명가능성 구현을 위한 분석\\n  • 고객사 딜리버리 위한 예측모델 구축 및 배포\\n  • 최신 모델 및 데이터 분석 트렌드 연구 및 적용', 'language': 'ko-KR'}, page_content='[임팩티브에이아이] [Deepflow] 데이터 사이언티스트 (Data Scientist) 채용 공고 | 원티드채용이력서교육•이벤트콘텐츠소셜프리랜서더보기회원가입/로그인회원가입기업 서비스1/6임팩티브에이아이∙서울 강남구∙경력 5-12년[Deepflow] 데이터 사이언티스트 (Data Scientist)포지션 상세[임팩티브AI 소개]임팩티브AI는 수요예측에 특화된 AI 솔루션 전문기업입니다. 자체 솔루션 Deepflow 통해 제품 수요예측, 원자재 가격예측, 신제품 성과예측을 수행, 재고관리 및 원자재 구매관리 최적화를 실현합니다.  제조·유통 산업에서 기술력을 인정받으며, 고객사의 성과 창출을 지원하고 있습니다[AI 기반 예측 솔루션, Deepflow]•Deepflow Forecast - 제품의 향후 6~12개월 판매량과 출고량을 예측, 수요예측 기반의 재고관리 최적화•Deepflow Materials - 원자재 가격 변동 예측을 통해 최적의 구매 타이밍 확보•Deepflow NPD - 신제품 기획 단계에서 성과 예측을 통해 잘 팔릴 제품의 프로파일 도출•Deepflow Marketview - LLM 기반 모델로 소비자 페르소나를 분석하고 제품에 대한 선호도 예측[임팩티브AI의 강점]• 검증된 기술력과 특허   - 25년 7월 기준 61건의 AI관련 특허를 출원 및 등록하며 지속적으로 기술적 경쟁력을 확보해오고 있습니다.• 글로벌 확장 중   - 임팩티브AI는 글로벌 시장에서도 빠르게 성장하며 미국, 아프리카, 동남아 등으로 사업을 확장하고 있습니다.       특히 아프리카 지역의 AI교육봉사 등 사회공헌활동도 꾸준히 진행중입니다.[회사 성과]·  시리즈-A 82억원 투자 유치·  2024 과학기술정보통신부 장관상 수상·  2024 벤처창업진흥유공포상 중기부 장관상 수상·  2024년도 전년대비 매출 및 고객사 3.5배 성장·  AI관련 국내외 특허 61건 출원 및 등록·  독일 최대 모빌리티 플랫폼 드라이버리 베를린 마켓플레이스 대회 우승·  삼성금융 C-Lab Outside 삼성생명 보험금예측 모델개발 우수상 수상·  딥테크 팁스, 초격차 스타트업 1000+ 등 다수 사업 선정·  병역특례업체 선정주요업무임팩티브AI의 데이터사이언티스트는 머신러닝/딥러닝 모델 구축, 시계열 예측, 데이터분석 업무를 수행하게 됩니다. 소프트웨어 엔지니어, 서비스 기획자, 도메인 전문가와 협력하여, 정확하고 확장가능한 예측모델을 개발 및 최적화하는 역할을 담당하게 됩니다.  • 수요예측 위한 데이터 분석 및 예측모델 설계/개발  • 데이터 전처리 및 피처 엔지니어링  • 인과 추론 및 설명가능성 구현을 위한 분석  • 고객사 딜리버리 위한 예측모델 구축 및 배포  • 최신 모델 및 데이터 분석 트렌드 연구 및 적용자격요건• 시계열 예측 모델 및 시스템 구축 프로젝트 경험자• 인공지능, 데이터과학, 전산학, 통계 등 관련 전공 석사학위 이상• 머신러닝 및 데이터 분석 분야에서 5년 이상 경력 보유하신 분상세 정보 더 보기기술 스택 • 툴태그마감일2025.10.31근무지역강남구 테헤란로 507 WeWork빌딩 13층임팩티브에이아이IT, 컨텐츠팔로우본 채용정보는 원티드랩의 동의없이 무단전재, 재배포, 재가공할 수 없으며, 구직활동 이외의 용도로 사용할 수 없습니다.본 채용 정보는 에서 제공한 자료를 바탕으로 원티드랩에서 표현을 수정하고 이의 배열 및 구성을 편집하여 완성한 원티드랩의 저작자산이자 영업자산입니다. 본 정보 및 데이터베이스의 일부 내지는 전부에 대하여 원티드랩의 동의 없이 무단전재 또는 재배포, 재가공 및 크롤링할 수 없으며, 게재된 채용기업의 정보는 구직자의 구직활동 이외의 용도로 사용될 수 없습니다. 원티드랩은 에서 게재한 자료에 대한 오류나 그 밖에 원티드랩이 가공하지 않은 정보의 내용상 문제에 대하여 어떠한 보장도 하지 않으며, 사용자가 이를 신뢰하여 취한 조치에 대해 책임을 지지 않습니다.<저작권자 (주)원티드랩. 무단전재-재배포금지>아무리 찾아도 없던 포지션,\\n이제 에이전트로 바로 찾으세요!기업소개광고문의고객센터이용약관블로그개인정보 처리방침(주)원티드랩대표이사 이복기서울특별시 송파구 올림픽로 300, 롯데월드타워 35층전화번호: 02-539-7118사업자등록번호: 299-86-00021통신판매번호: 2020-서울송파-3147유료직업소개사업등록번호: (국내) 제2020-3230259-14-5-00018호채용서비스 문의원티드스페이스 문의원티드긱스 문의프리온보딩 문의취업지원시스템 문의IR 문의© 2025 Wanted Lab, Inc.')]"
      ]
     },
     "execution_count": 8,
     "metadata": {},
     "output_type": "execute_result"
    }
   ],
   "source": [
    "# jd pages\n",
    "jd_pages = load_jd('https://www.wanted.co.kr/wd/297589')\n",
    "jd_pages"
   ]
  },
  {
   "cell_type": "markdown",
   "id": "a4e03f9c-6738-40bf-8394-4d9896379b8c",
   "metadata": {},
   "source": [
    "## 2. 텍스트 나누기, 임베딩, 벡터DB 생성"
   ]
  },
  {
   "cell_type": "code",
   "execution_count": 9,
   "id": "16c9eb9f",
   "metadata": {},
   "outputs": [],
   "source": [
    "def chunk_documents(pages, source_label, chunk_size=500, chunk_overlap=100):\n",
    "    '''\n",
    "    페이지(Document list)들을 청크로 나누고 metadata를 추가하는 함수\n",
    "    - pages: Document list\n",
    "    - source_label: 'cv' 또는 'jd' 등 source 표시\n",
    "    - return: 청크가 나뉜 Document 리스트\n",
    "    '''\n",
    "    text_splitter = RecursiveCharacterTextSplitter(\n",
    "        separators=['\\n\\n', '\\n'],\n",
    "        chunk_size=chunk_size,\n",
    "        chunk_overlap=chunk_overlap,\n",
    "        length_function=len,\n",
    "        is_separator_regex=False\n",
    "    )\n",
    "\n",
    "    split_docs = text_splitter.split_documents(pages)\n",
    "\n",
    "    split_docs_with_meta = [\n",
    "        Document(page_content=d.page_content,\n",
    "                 metadata={'source': source_label, 'chunk_id': str(i)})\n",
    "        for i, d in enumerate(split_docs)\n",
    "    ]\n",
    "\n",
    "    return split_docs_with_meta"
   ]
  },
  {
   "cell_type": "code",
   "execution_count": 10,
   "id": "8983914b",
   "metadata": {},
   "outputs": [],
   "source": [
    "def create_vector_store(_cv, _jd):\n",
    "    '''\n",
    "    CV, JD 문서를 Chroma 벡터스토어로 변환\n",
    "    - st.cache_resource 제거 → 반복 호출해도 누적 문제 없음\n",
    "    '''\n",
    "    # 청크 생성\n",
    "    cv_docs = chunk_documents(_cv, 'cv')\n",
    "    jd_docs = chunk_documents(_jd, 'jd')\n",
    "\n",
    "    # OpenAI 임베딩 모델\n",
    "    embeddings_model = OpenAIEmbeddings(model='text-embedding-3-small')\n",
    "\n",
    "    # 컬렉션 이름을 매번 새로 생성\n",
    "    collection_name = f'vectorstore_{uuid.uuid4()}'\n",
    "\n",
    "    # Chroma vectorstore 생성\n",
    "    vectorstore = Chroma.from_documents(\n",
    "        documents=cv_docs + jd_docs,\n",
    "        embedding=embeddings_model,\n",
    "        collection_name=collection_name,\n",
    "        persist_directory=None  # 메모리 기반\n",
    "    )\n",
    "\n",
    "    return vectorstore"
   ]
  },
  {
   "cell_type": "code",
   "execution_count": 11,
   "id": "3d3fa386",
   "metadata": {},
   "outputs": [],
   "source": [
    "vectorstore = create_vector_store(_cv=load_cv(_file), _jd=load_jd('https://www.wanted.co.kr/wd/297589'))"
   ]
  },
  {
   "cell_type": "code",
   "execution_count": 12,
   "id": "3628b5f0",
   "metadata": {},
   "outputs": [
    {
     "data": {
      "text/plain": [
       "11"
      ]
     },
     "execution_count": 12,
     "metadata": {},
     "output_type": "execute_result"
    }
   ],
   "source": [
    "cv_docs_count = len([\n",
    "    d for d in vectorstore._collection.get(include=['metadatas', 'documents'])['metadatas']\n",
    "    if d['source'] == 'cv'\n",
    "])\n",
    "cv_docs_count"
   ]
  },
  {
   "cell_type": "code",
   "execution_count": 13,
   "id": "0cd31beb",
   "metadata": {},
   "outputs": [
    {
     "data": {
      "text/plain": [
       "2"
      ]
     },
     "execution_count": 13,
     "metadata": {},
     "output_type": "execute_result"
    }
   ],
   "source": [
    "jd_docs_count = len([\n",
    "    d for d in vectorstore._collection.get(include=[\"metadatas\", \"documents\"])['metadatas']\n",
    "    if d['source'] == 'jd'\n",
    "])\n",
    "jd_docs_count"
   ]
  },
  {
   "cell_type": "code",
   "execution_count": 14,
   "id": "403ecd27",
   "metadata": {},
   "outputs": [
    {
     "data": {
      "text/plain": [
       "13"
      ]
     },
     "execution_count": 14,
     "metadata": {},
     "output_type": "execute_result"
    }
   ],
   "source": [
    "vectorstore._collection.count()"
   ]
  },
  {
   "cell_type": "markdown",
   "id": "9892ff3d-0588-4085-ac2d-1d37669a4b43",
   "metadata": {
    "jp-MarkdownHeadingCollapsed": true
   },
   "source": [
    "## 3. Retriever 구성 및 Chaining"
   ]
  },
  {
   "cell_type": "code",
   "execution_count": null,
   "id": "06a4aa80-ccdb-43da-af34-d25f347c16fb",
   "metadata": {},
   "outputs": [],
   "source": [
    "def chaining(_cv, _jd):\n",
    "    vectorstore = create_vector_store(_cv, _jd)\n",
    "\n",
    "    # CV/JD 문서 수\n",
    "    cv_docs_count = len([d for d in vectorstore._collection.get(include=['metadatas'])['metadatas'] if d['source']=='cv'])\n",
    "    jd_docs_count = len([d for d in vectorstore._collection.get(include=['metadatas'])['metadatas'] if d['source']=='jd'])\n",
    "\n",
    "    # CV 검색기\n",
    "    cv_retriever = vectorstore.as_retriever(\n",
    "        search_type='mmr',\n",
    "        search_kwargs={'k': 5, 'filter': {'source': 'cv'}}\n",
    "    )\n",
    "\n",
    "    # JD 검색기\n",
    "    jd_retriever = vectorstore.as_retriever(\n",
    "        search_type='mmr',\n",
    "        search_kwargs={'k': 5, 'filter': {'source': 'jd'}}\n",
    "    )\n",
    "\n",
    "    # 두 문서 모두 검색기 (fallback)\n",
    "    both_retriever = vectorstore.as_retriever(\n",
    "        search_type='mmr',\n",
    "        search_kwargs={'k': 5}\n",
    "    )\n",
    "\n",
    "    # QA 시스템 프롬프트\n",
    "    qa_system_prompt = '''\n",
    "    당신은 커리어 및 채용 관련 질의응답을 돕는 AI 어시스턴트입니다.  \n",
    "    아래 제공된 문서들을 참고하여, 사용자의 질문에 정확하고 논리적으로 답변하세요.  \n",
    "\n",
    "    - 사용자의 **경력, 경험, 이력 관련 질문**이라면 CV(이력서)를 우선적으로 참고하세요.  \n",
    "    - **지원하는 회사, 직무, 채용 요건** 관련 질문이라면 JD(공고문)를 우선적으로 참고하세요.  \n",
    "    - 질문의 맥락상 두 문서가 모두 관련되어 있다면, **균형 있게 통합하여 답변**하세요.  \n",
    "    - 문서에 직접적인 정보가 없을 경우, 일반적인 HR/커리어 상식과 논리를 기반으로 보완해 설명할 수 있습니다.  \n",
    "\n",
    "    **언어 스타일 지침**\n",
    "    - 답변은 언제나 **전문적이고 신뢰감 있는 어투**로 작성합니다.  \n",
    "    - 문장은 명료하고 간결하게 유지하되, 비즈니스 상황에 맞는 적절한 어휘를 사용합니다.  \n",
    "    - 필요 시 가벼운 이모지를 활용하여 자연스럽게 친근함을 더할 수 있으나, 과도하게 사용하지 않습니다.  \n",
    "    \n",
    "    {context}\n",
    "    '''\n",
    "\n",
    "    qa_prompt = ChatPromptTemplate.from_messages([\n",
    "        ('system', qa_system_prompt),\n",
    "        ('human','{input}')\n",
    "    ])\n",
    "\n",
    "    # MultiRetrievalQAChain 구성\n",
    "    retrievers = [\n",
    "        {'name': 'cv', 'description': '사용자 경력 및 이전 회사 관련 질문', 'retriever': cv_retriever, 'prompt': qa_prompt},\n",
    "        {'name': 'jd', 'description': '지원을 원하는 회사 및 직무기술서 관련 질문', 'retriever': jd_retriever, 'prompt': qa_prompt},\n",
    "    ]\n",
    "\n",
    "    llm = ChatOpenAI(model=\"gpt-4o-mini\")\n",
    "\n",
    "    rag_chain = MultiRetrievalQAChain.from_retrievers(\n",
    "        llm=llm,\n",
    "        retriever_infos=retriever_infos,\n",
    "        default_retriever=both_retriever,  # 'both' fallback\n",
    "    )\n",
    "\n",
    "    return rag_chain"
   ]
  },
  {
   "cell_type": "code",
   "execution_count": null,
   "id": "4009955d",
   "metadata": {},
   "outputs": [],
   "source": [
    "rag_chain = chaining(_cv=load_cv(_file), _jd=load_jd('https://www.wanted.co.kr/wd/297589'))"
   ]
  },
  {
   "cell_type": "code",
   "execution_count": 35,
   "id": "86222693",
   "metadata": {},
   "outputs": [
    {
     "ename": "ValueError",
     "evalue": "Missing some input keys: {'input'}",
     "output_type": "error",
     "traceback": [
      "\u001b[31m---------------------------------------------------------------------------\u001b[39m",
      "\u001b[31mValueError\u001b[39m                                Traceback (most recent call last)",
      "\u001b[36mCell\u001b[39m\u001b[36m \u001b[39m\u001b[32mIn[35]\u001b[39m\u001b[32m, line 5\u001b[39m\n\u001b[32m      2\u001b[39m \u001b[38;5;28;01mfrom\u001b[39;00m\u001b[38;5;250m \u001b[39m\u001b[34;01mlangchain_core\u001b[39;00m\u001b[34;01m.\u001b[39;00m\u001b[34;01mrunnables\u001b[39;00m\u001b[38;5;250m \u001b[39m\u001b[38;5;28;01mimport\u001b[39;00m RunnableLambda\n\u001b[32m      4\u001b[39m fixed_rag_chain = RunnableLambda(\u001b[38;5;28;01mlambda\u001b[39;00m x: {\u001b[33m\"\u001b[39m\u001b[33mquestion\u001b[39m\u001b[33m\"\u001b[39m: x[\u001b[33m\"\u001b[39m\u001b[33minput\u001b[39m\u001b[33m\"\u001b[39m]}) | rag_chain\n\u001b[32m----> \u001b[39m\u001b[32m5\u001b[39m \u001b[43mfixed_rag_chain\u001b[49m\u001b[43m.\u001b[49m\u001b[43minvoke\u001b[49m\u001b[43m(\u001b[49m\u001b[43m{\u001b[49m\u001b[33;43m\"\u001b[39;49m\u001b[33;43minput\u001b[39;49m\u001b[33;43m\"\u001b[39;49m\u001b[43m:\u001b[49m\u001b[43m \u001b[49m\u001b[33;43m\"\u001b[39;49m\u001b[33;43m과거 다녔던 회사에 대해 설명해줘\u001b[39;49m\u001b[33;43m\"\u001b[39;49m\u001b[43m}\u001b[49m\u001b[43m)\u001b[49m\n",
      "\u001b[36mFile \u001b[39m\u001b[32mc:\\Users\\user\\miniconda3\\envs\\ragenv\\Lib\\site-packages\\langchain_core\\runnables\\base.py:3246\u001b[39m, in \u001b[36mRunnableSequence.invoke\u001b[39m\u001b[34m(self, input, config, **kwargs)\u001b[39m\n\u001b[32m   3244\u001b[39m                 input_ = context.run(step.invoke, input_, config, **kwargs)\n\u001b[32m   3245\u001b[39m             \u001b[38;5;28;01melse\u001b[39;00m:\n\u001b[32m-> \u001b[39m\u001b[32m3246\u001b[39m                 input_ = \u001b[43mcontext\u001b[49m\u001b[43m.\u001b[49m\u001b[43mrun\u001b[49m\u001b[43m(\u001b[49m\u001b[43mstep\u001b[49m\u001b[43m.\u001b[49m\u001b[43minvoke\u001b[49m\u001b[43m,\u001b[49m\u001b[43m \u001b[49m\u001b[43minput_\u001b[49m\u001b[43m,\u001b[49m\u001b[43m \u001b[49m\u001b[43mconfig\u001b[49m\u001b[43m)\u001b[49m\n\u001b[32m   3247\u001b[39m \u001b[38;5;66;03m# finish the root run\u001b[39;00m\n\u001b[32m   3248\u001b[39m \u001b[38;5;28;01mexcept\u001b[39;00m \u001b[38;5;167;01mBaseException\u001b[39;00m \u001b[38;5;28;01mas\u001b[39;00m e:\n",
      "\u001b[36mFile \u001b[39m\u001b[32mc:\\Users\\user\\miniconda3\\envs\\ragenv\\Lib\\site-packages\\langchain\\chains\\base.py:163\u001b[39m, in \u001b[36mChain.invoke\u001b[39m\u001b[34m(self, input, config, **kwargs)\u001b[39m\n\u001b[32m    156\u001b[39m run_manager = callback_manager.on_chain_start(\n\u001b[32m    157\u001b[39m     \u001b[38;5;28;01mNone\u001b[39;00m,\n\u001b[32m    158\u001b[39m     inputs,\n\u001b[32m    159\u001b[39m     run_id,\n\u001b[32m    160\u001b[39m     name=run_name,\n\u001b[32m    161\u001b[39m )\n\u001b[32m    162\u001b[39m \u001b[38;5;28;01mtry\u001b[39;00m:\n\u001b[32m--> \u001b[39m\u001b[32m163\u001b[39m     \u001b[38;5;28;43mself\u001b[39;49m\u001b[43m.\u001b[49m\u001b[43m_validate_inputs\u001b[49m\u001b[43m(\u001b[49m\u001b[43minputs\u001b[49m\u001b[43m)\u001b[49m\n\u001b[32m    164\u001b[39m     outputs = (\n\u001b[32m    165\u001b[39m         \u001b[38;5;28mself\u001b[39m._call(inputs, run_manager=run_manager)\n\u001b[32m    166\u001b[39m         \u001b[38;5;28;01mif\u001b[39;00m new_arg_supported\n\u001b[32m    167\u001b[39m         \u001b[38;5;28;01melse\u001b[39;00m \u001b[38;5;28mself\u001b[39m._call(inputs)\n\u001b[32m    168\u001b[39m     )\n\u001b[32m    170\u001b[39m     final_outputs: \u001b[38;5;28mdict\u001b[39m[\u001b[38;5;28mstr\u001b[39m, Any] = \u001b[38;5;28mself\u001b[39m.prep_outputs(\n\u001b[32m    171\u001b[39m         inputs,\n\u001b[32m    172\u001b[39m         outputs,\n\u001b[32m    173\u001b[39m         return_only_outputs,\n\u001b[32m    174\u001b[39m     )\n",
      "\u001b[36mFile \u001b[39m\u001b[32mc:\\Users\\user\\miniconda3\\envs\\ragenv\\Lib\\site-packages\\langchain\\chains\\base.py:307\u001b[39m, in \u001b[36mChain._validate_inputs\u001b[39m\u001b[34m(self, inputs)\u001b[39m\n\u001b[32m    305\u001b[39m \u001b[38;5;28;01mif\u001b[39;00m missing_keys:\n\u001b[32m    306\u001b[39m     msg = \u001b[33mf\u001b[39m\u001b[33m\"\u001b[39m\u001b[33mMissing some input keys: \u001b[39m\u001b[38;5;132;01m{\u001b[39;00mmissing_keys\u001b[38;5;132;01m}\u001b[39;00m\u001b[33m\"\u001b[39m\n\u001b[32m--> \u001b[39m\u001b[32m307\u001b[39m     \u001b[38;5;28;01mraise\u001b[39;00m \u001b[38;5;167;01mValueError\u001b[39;00m(msg)\n",
      "\u001b[31mValueError\u001b[39m: Missing some input keys: {'input'}"
     ]
    }
   ],
   "source": [
    "# 입력 키 매핑을 명시적으로 해주는 wrapper\n",
    "from langchain_core.runnables import RunnableLambda\n",
    "\n",
    "fixed_rag_chain = RunnableLambda(lambda x: {\"question\": x[\"input\"]}) | rag_chain\n",
    "fixed_rag_chain.invoke({\"input\": \"과거 다녔던 회사에 대해 설명해줘\"})"
   ]
  },
  {
   "cell_type": "code",
   "execution_count": null,
   "id": "e521b6d5",
   "metadata": {},
   "outputs": [
    {
     "ename": "ValueError",
     "evalue": "Missing some input keys: {'input'}",
     "output_type": "error",
     "traceback": [
      "\u001b[31m---------------------------------------------------------------------------\u001b[39m",
      "\u001b[31mValueError\u001b[39m                                Traceback (most recent call last)",
      "\u001b[36mCell\u001b[39m\u001b[36m \u001b[39m\u001b[32mIn[33]\u001b[39m\u001b[32m, line 1\u001b[39m\n\u001b[32m----> \u001b[39m\u001b[32m1\u001b[39m \u001b[43mrag_chain\u001b[49m\u001b[43m.\u001b[49m\u001b[43minvoke\u001b[49m\u001b[43m(\u001b[49m\u001b[43m{\u001b[49m\u001b[33;43m\"\u001b[39;49m\u001b[33;43minput\u001b[39;49m\u001b[33;43m\"\u001b[39;49m\u001b[43m:\u001b[49m\u001b[43m \u001b[49m\u001b[33;43m\"\u001b[39;49m\u001b[33;43m과거 다녔던 회사에 대해 설명해줘\u001b[39;49m\u001b[33;43m\"\u001b[39;49m\u001b[43m}\u001b[49m\u001b[43m)\u001b[49m\n",
      "\u001b[36mFile \u001b[39m\u001b[32mc:\\Users\\user\\miniconda3\\envs\\ragenv\\Lib\\site-packages\\langchain\\chains\\base.py:165\u001b[39m, in \u001b[36mChain.invoke\u001b[39m\u001b[34m(self, input, config, **kwargs)\u001b[39m\n\u001b[32m    162\u001b[39m \u001b[38;5;28;01mtry\u001b[39;00m:\n\u001b[32m    163\u001b[39m     \u001b[38;5;28mself\u001b[39m._validate_inputs(inputs)\n\u001b[32m    164\u001b[39m     outputs = (\n\u001b[32m--> \u001b[39m\u001b[32m165\u001b[39m         \u001b[38;5;28;43mself\u001b[39;49m\u001b[43m.\u001b[49m\u001b[43m_call\u001b[49m\u001b[43m(\u001b[49m\u001b[43minputs\u001b[49m\u001b[43m,\u001b[49m\u001b[43m \u001b[49m\u001b[43mrun_manager\u001b[49m\u001b[43m=\u001b[49m\u001b[43mrun_manager\u001b[49m\u001b[43m)\u001b[49m\n\u001b[32m    166\u001b[39m         \u001b[38;5;28;01mif\u001b[39;00m new_arg_supported\n\u001b[32m    167\u001b[39m         \u001b[38;5;28;01melse\u001b[39;00m \u001b[38;5;28mself\u001b[39m._call(inputs)\n\u001b[32m    168\u001b[39m     )\n\u001b[32m    170\u001b[39m     final_outputs: \u001b[38;5;28mdict\u001b[39m[\u001b[38;5;28mstr\u001b[39m, Any] = \u001b[38;5;28mself\u001b[39m.prep_outputs(\n\u001b[32m    171\u001b[39m         inputs,\n\u001b[32m    172\u001b[39m         outputs,\n\u001b[32m    173\u001b[39m         return_only_outputs,\n\u001b[32m    174\u001b[39m     )\n\u001b[32m    175\u001b[39m \u001b[38;5;28;01mexcept\u001b[39;00m \u001b[38;5;167;01mBaseException\u001b[39;00m \u001b[38;5;28;01mas\u001b[39;00m e:\n",
      "\u001b[36mFile \u001b[39m\u001b[32mc:\\Users\\user\\miniconda3\\envs\\ragenv\\Lib\\site-packages\\langchain\\chains\\router\\base.py:104\u001b[39m, in \u001b[36mMultiRouteChain._call\u001b[39m\u001b[34m(self, inputs, run_manager)\u001b[39m\n\u001b[32m    102\u001b[39m     \u001b[38;5;28;01mreturn\u001b[39;00m \u001b[38;5;28mself\u001b[39m.default_chain(route.next_inputs, callbacks=callbacks)\n\u001b[32m    103\u001b[39m \u001b[38;5;28;01mif\u001b[39;00m route.destination \u001b[38;5;129;01min\u001b[39;00m \u001b[38;5;28mself\u001b[39m.destination_chains:\n\u001b[32m--> \u001b[39m\u001b[32m104\u001b[39m     \u001b[38;5;28;01mreturn\u001b[39;00m \u001b[38;5;28;43mself\u001b[39;49m\u001b[43m.\u001b[49m\u001b[43mdestination_chains\u001b[49m\u001b[43m[\u001b[49m\u001b[43mroute\u001b[49m\u001b[43m.\u001b[49m\u001b[43mdestination\u001b[49m\u001b[43m]\u001b[49m\u001b[43m(\u001b[49m\n\u001b[32m    105\u001b[39m \u001b[43m        \u001b[49m\u001b[43mroute\u001b[49m\u001b[43m.\u001b[49m\u001b[43mnext_inputs\u001b[49m\u001b[43m,\u001b[49m\n\u001b[32m    106\u001b[39m \u001b[43m        \u001b[49m\u001b[43mcallbacks\u001b[49m\u001b[43m=\u001b[49m\u001b[43mcallbacks\u001b[49m\u001b[43m,\u001b[49m\n\u001b[32m    107\u001b[39m \u001b[43m    \u001b[49m\u001b[43m)\u001b[49m\n\u001b[32m    108\u001b[39m \u001b[38;5;28;01mif\u001b[39;00m \u001b[38;5;28mself\u001b[39m.silent_errors:\n\u001b[32m    109\u001b[39m     \u001b[38;5;28;01mreturn\u001b[39;00m \u001b[38;5;28mself\u001b[39m.default_chain(route.next_inputs, callbacks=callbacks)\n",
      "\u001b[36mFile \u001b[39m\u001b[32mc:\\Users\\user\\miniconda3\\envs\\ragenv\\Lib\\site-packages\\langchain_core\\_api\\deprecation.py:193\u001b[39m, in \u001b[36mdeprecated.<locals>.deprecate.<locals>.warning_emitting_wrapper\u001b[39m\u001b[34m(*args, **kwargs)\u001b[39m\n\u001b[32m    191\u001b[39m     warned = \u001b[38;5;28;01mTrue\u001b[39;00m\n\u001b[32m    192\u001b[39m     emit_warning()\n\u001b[32m--> \u001b[39m\u001b[32m193\u001b[39m \u001b[38;5;28;01mreturn\u001b[39;00m \u001b[43mwrapped\u001b[49m\u001b[43m(\u001b[49m\u001b[43m*\u001b[49m\u001b[43margs\u001b[49m\u001b[43m,\u001b[49m\u001b[43m \u001b[49m\u001b[43m*\u001b[49m\u001b[43m*\u001b[49m\u001b[43mkwargs\u001b[49m\u001b[43m)\u001b[49m\n",
      "\u001b[36mFile \u001b[39m\u001b[32mc:\\Users\\user\\miniconda3\\envs\\ragenv\\Lib\\site-packages\\langchain\\chains\\base.py:410\u001b[39m, in \u001b[36mChain.__call__\u001b[39m\u001b[34m(self, inputs, return_only_outputs, callbacks, tags, metadata, run_name, include_run_info)\u001b[39m\n\u001b[32m    378\u001b[39m \u001b[38;5;250m\u001b[39m\u001b[33;03m\"\"\"Execute the chain.\u001b[39;00m\n\u001b[32m    379\u001b[39m \n\u001b[32m    380\u001b[39m \u001b[33;03mArgs:\u001b[39;00m\n\u001b[32m   (...)\u001b[39m\u001b[32m    401\u001b[39m \u001b[33;03m        `Chain.output_keys`.\u001b[39;00m\n\u001b[32m    402\u001b[39m \u001b[33;03m\"\"\"\u001b[39;00m\n\u001b[32m    403\u001b[39m config = {\n\u001b[32m    404\u001b[39m     \u001b[33m\"\u001b[39m\u001b[33mcallbacks\u001b[39m\u001b[33m\"\u001b[39m: callbacks,\n\u001b[32m    405\u001b[39m     \u001b[33m\"\u001b[39m\u001b[33mtags\u001b[39m\u001b[33m\"\u001b[39m: tags,\n\u001b[32m    406\u001b[39m     \u001b[33m\"\u001b[39m\u001b[33mmetadata\u001b[39m\u001b[33m\"\u001b[39m: metadata,\n\u001b[32m    407\u001b[39m     \u001b[33m\"\u001b[39m\u001b[33mrun_name\u001b[39m\u001b[33m\"\u001b[39m: run_name,\n\u001b[32m    408\u001b[39m }\n\u001b[32m--> \u001b[39m\u001b[32m410\u001b[39m \u001b[38;5;28;01mreturn\u001b[39;00m \u001b[38;5;28;43mself\u001b[39;49m\u001b[43m.\u001b[49m\u001b[43minvoke\u001b[49m\u001b[43m(\u001b[49m\n\u001b[32m    411\u001b[39m \u001b[43m    \u001b[49m\u001b[43minputs\u001b[49m\u001b[43m,\u001b[49m\n\u001b[32m    412\u001b[39m \u001b[43m    \u001b[49m\u001b[43mcast\u001b[49m\u001b[43m(\u001b[49m\u001b[43mRunnableConfig\u001b[49m\u001b[43m,\u001b[49m\u001b[43m \u001b[49m\u001b[43m{\u001b[49m\u001b[43mk\u001b[49m\u001b[43m:\u001b[49m\u001b[43m \u001b[49m\u001b[43mv\u001b[49m\u001b[43m \u001b[49m\u001b[38;5;28;43;01mfor\u001b[39;49;00m\u001b[43m \u001b[49m\u001b[43mk\u001b[49m\u001b[43m,\u001b[49m\u001b[43m \u001b[49m\u001b[43mv\u001b[49m\u001b[43m \u001b[49m\u001b[38;5;129;43;01min\u001b[39;49;00m\u001b[43m \u001b[49m\u001b[43mconfig\u001b[49m\u001b[43m.\u001b[49m\u001b[43mitems\u001b[49m\u001b[43m(\u001b[49m\u001b[43m)\u001b[49m\u001b[43m \u001b[49m\u001b[38;5;28;43;01mif\u001b[39;49;00m\u001b[43m \u001b[49m\u001b[43mv\u001b[49m\u001b[43m \u001b[49m\u001b[38;5;129;43;01mis\u001b[39;49;00m\u001b[43m \u001b[49m\u001b[38;5;129;43;01mnot\u001b[39;49;00m\u001b[43m \u001b[49m\u001b[38;5;28;43;01mNone\u001b[39;49;00m\u001b[43m}\u001b[49m\u001b[43m)\u001b[49m\u001b[43m,\u001b[49m\n\u001b[32m    413\u001b[39m \u001b[43m    \u001b[49m\u001b[43mreturn_only_outputs\u001b[49m\u001b[43m=\u001b[49m\u001b[43mreturn_only_outputs\u001b[49m\u001b[43m,\u001b[49m\n\u001b[32m    414\u001b[39m \u001b[43m    \u001b[49m\u001b[43minclude_run_info\u001b[49m\u001b[43m=\u001b[49m\u001b[43minclude_run_info\u001b[49m\u001b[43m,\u001b[49m\n\u001b[32m    415\u001b[39m \u001b[43m\u001b[49m\u001b[43m)\u001b[49m\n",
      "\u001b[36mFile \u001b[39m\u001b[32mc:\\Users\\user\\miniconda3\\envs\\ragenv\\Lib\\site-packages\\langchain\\chains\\base.py:165\u001b[39m, in \u001b[36mChain.invoke\u001b[39m\u001b[34m(self, input, config, **kwargs)\u001b[39m\n\u001b[32m    162\u001b[39m \u001b[38;5;28;01mtry\u001b[39;00m:\n\u001b[32m    163\u001b[39m     \u001b[38;5;28mself\u001b[39m._validate_inputs(inputs)\n\u001b[32m    164\u001b[39m     outputs = (\n\u001b[32m--> \u001b[39m\u001b[32m165\u001b[39m         \u001b[38;5;28;43mself\u001b[39;49m\u001b[43m.\u001b[49m\u001b[43m_call\u001b[49m\u001b[43m(\u001b[49m\u001b[43minputs\u001b[49m\u001b[43m,\u001b[49m\u001b[43m \u001b[49m\u001b[43mrun_manager\u001b[49m\u001b[43m=\u001b[49m\u001b[43mrun_manager\u001b[49m\u001b[43m)\u001b[49m\n\u001b[32m    166\u001b[39m         \u001b[38;5;28;01mif\u001b[39;00m new_arg_supported\n\u001b[32m    167\u001b[39m         \u001b[38;5;28;01melse\u001b[39;00m \u001b[38;5;28mself\u001b[39m._call(inputs)\n\u001b[32m    168\u001b[39m     )\n\u001b[32m    170\u001b[39m     final_outputs: \u001b[38;5;28mdict\u001b[39m[\u001b[38;5;28mstr\u001b[39m, Any] = \u001b[38;5;28mself\u001b[39m.prep_outputs(\n\u001b[32m    171\u001b[39m         inputs,\n\u001b[32m    172\u001b[39m         outputs,\n\u001b[32m    173\u001b[39m         return_only_outputs,\n\u001b[32m    174\u001b[39m     )\n\u001b[32m    175\u001b[39m \u001b[38;5;28;01mexcept\u001b[39;00m \u001b[38;5;167;01mBaseException\u001b[39;00m \u001b[38;5;28;01mas\u001b[39;00m e:\n",
      "\u001b[36mFile \u001b[39m\u001b[32mc:\\Users\\user\\miniconda3\\envs\\ragenv\\Lib\\site-packages\\langchain\\chains\\retrieval_qa\\base.py:159\u001b[39m, in \u001b[36mBaseRetrievalQA._call\u001b[39m\u001b[34m(self, inputs, run_manager)\u001b[39m\n\u001b[32m    157\u001b[39m \u001b[38;5;28;01melse\u001b[39;00m:\n\u001b[32m    158\u001b[39m     docs = \u001b[38;5;28mself\u001b[39m._get_docs(question)  \u001b[38;5;66;03m# type: ignore[call-arg]\u001b[39;00m\n\u001b[32m--> \u001b[39m\u001b[32m159\u001b[39m answer = \u001b[38;5;28;43mself\u001b[39;49m\u001b[43m.\u001b[49m\u001b[43mcombine_documents_chain\u001b[49m\u001b[43m.\u001b[49m\u001b[43mrun\u001b[49m\u001b[43m(\u001b[49m\n\u001b[32m    160\u001b[39m \u001b[43m    \u001b[49m\u001b[43minput_documents\u001b[49m\u001b[43m=\u001b[49m\u001b[43mdocs\u001b[49m\u001b[43m,\u001b[49m\n\u001b[32m    161\u001b[39m \u001b[43m    \u001b[49m\u001b[43mquestion\u001b[49m\u001b[43m=\u001b[49m\u001b[43mquestion\u001b[49m\u001b[43m,\u001b[49m\n\u001b[32m    162\u001b[39m \u001b[43m    \u001b[49m\u001b[43mcallbacks\u001b[49m\u001b[43m=\u001b[49m\u001b[43m_run_manager\u001b[49m\u001b[43m.\u001b[49m\u001b[43mget_child\u001b[49m\u001b[43m(\u001b[49m\u001b[43m)\u001b[49m\u001b[43m,\u001b[49m\n\u001b[32m    163\u001b[39m \u001b[43m\u001b[49m\u001b[43m)\u001b[49m\n\u001b[32m    165\u001b[39m \u001b[38;5;28;01mif\u001b[39;00m \u001b[38;5;28mself\u001b[39m.return_source_documents:\n\u001b[32m    166\u001b[39m     \u001b[38;5;28;01mreturn\u001b[39;00m {\u001b[38;5;28mself\u001b[39m.output_key: answer, \u001b[33m\"\u001b[39m\u001b[33msource_documents\u001b[39m\u001b[33m\"\u001b[39m: docs}\n",
      "\u001b[36mFile \u001b[39m\u001b[32mc:\\Users\\user\\miniconda3\\envs\\ragenv\\Lib\\site-packages\\langchain_core\\_api\\deprecation.py:193\u001b[39m, in \u001b[36mdeprecated.<locals>.deprecate.<locals>.warning_emitting_wrapper\u001b[39m\u001b[34m(*args, **kwargs)\u001b[39m\n\u001b[32m    191\u001b[39m     warned = \u001b[38;5;28;01mTrue\u001b[39;00m\n\u001b[32m    192\u001b[39m     emit_warning()\n\u001b[32m--> \u001b[39m\u001b[32m193\u001b[39m \u001b[38;5;28;01mreturn\u001b[39;00m \u001b[43mwrapped\u001b[49m\u001b[43m(\u001b[49m\u001b[43m*\u001b[49m\u001b[43margs\u001b[49m\u001b[43m,\u001b[49m\u001b[43m \u001b[49m\u001b[43m*\u001b[49m\u001b[43m*\u001b[49m\u001b[43mkwargs\u001b[49m\u001b[43m)\u001b[49m\n",
      "\u001b[36mFile \u001b[39m\u001b[32mc:\\Users\\user\\miniconda3\\envs\\ragenv\\Lib\\site-packages\\langchain\\chains\\base.py:632\u001b[39m, in \u001b[36mChain.run\u001b[39m\u001b[34m(self, callbacks, tags, metadata, *args, **kwargs)\u001b[39m\n\u001b[32m    627\u001b[39m     \u001b[38;5;28;01mreturn\u001b[39;00m \u001b[38;5;28mself\u001b[39m(args[\u001b[32m0\u001b[39m], callbacks=callbacks, tags=tags, metadata=metadata)[\n\u001b[32m    628\u001b[39m         _output_key\n\u001b[32m    629\u001b[39m     ]\n\u001b[32m    631\u001b[39m \u001b[38;5;28;01mif\u001b[39;00m kwargs \u001b[38;5;129;01mand\u001b[39;00m \u001b[38;5;129;01mnot\u001b[39;00m args:\n\u001b[32m--> \u001b[39m\u001b[32m632\u001b[39m     \u001b[38;5;28;01mreturn\u001b[39;00m \u001b[38;5;28;43mself\u001b[39;49m\u001b[43m(\u001b[49m\u001b[43mkwargs\u001b[49m\u001b[43m,\u001b[49m\u001b[43m \u001b[49m\u001b[43mcallbacks\u001b[49m\u001b[43m=\u001b[49m\u001b[43mcallbacks\u001b[49m\u001b[43m,\u001b[49m\u001b[43m \u001b[49m\u001b[43mtags\u001b[49m\u001b[43m=\u001b[49m\u001b[43mtags\u001b[49m\u001b[43m,\u001b[49m\u001b[43m \u001b[49m\u001b[43mmetadata\u001b[49m\u001b[43m=\u001b[49m\u001b[43mmetadata\u001b[49m\u001b[43m)\u001b[49m[\n\u001b[32m    633\u001b[39m         _output_key\n\u001b[32m    634\u001b[39m     ]\n\u001b[32m    636\u001b[39m \u001b[38;5;28;01mif\u001b[39;00m \u001b[38;5;129;01mnot\u001b[39;00m kwargs \u001b[38;5;129;01mand\u001b[39;00m \u001b[38;5;129;01mnot\u001b[39;00m args:\n\u001b[32m    637\u001b[39m     msg = (\n\u001b[32m    638\u001b[39m         \u001b[33m\"\u001b[39m\u001b[33m`run` supported with either positional arguments or keyword arguments,\u001b[39m\u001b[33m\"\u001b[39m\n\u001b[32m    639\u001b[39m         \u001b[33m\"\u001b[39m\u001b[33m but none were provided.\u001b[39m\u001b[33m\"\u001b[39m\n\u001b[32m    640\u001b[39m     )\n",
      "\u001b[36mFile \u001b[39m\u001b[32mc:\\Users\\user\\miniconda3\\envs\\ragenv\\Lib\\site-packages\\langchain_core\\_api\\deprecation.py:193\u001b[39m, in \u001b[36mdeprecated.<locals>.deprecate.<locals>.warning_emitting_wrapper\u001b[39m\u001b[34m(*args, **kwargs)\u001b[39m\n\u001b[32m    191\u001b[39m     warned = \u001b[38;5;28;01mTrue\u001b[39;00m\n\u001b[32m    192\u001b[39m     emit_warning()\n\u001b[32m--> \u001b[39m\u001b[32m193\u001b[39m \u001b[38;5;28;01mreturn\u001b[39;00m \u001b[43mwrapped\u001b[49m\u001b[43m(\u001b[49m\u001b[43m*\u001b[49m\u001b[43margs\u001b[49m\u001b[43m,\u001b[49m\u001b[43m \u001b[49m\u001b[43m*\u001b[49m\u001b[43m*\u001b[49m\u001b[43mkwargs\u001b[49m\u001b[43m)\u001b[49m\n",
      "\u001b[36mFile \u001b[39m\u001b[32mc:\\Users\\user\\miniconda3\\envs\\ragenv\\Lib\\site-packages\\langchain\\chains\\base.py:410\u001b[39m, in \u001b[36mChain.__call__\u001b[39m\u001b[34m(self, inputs, return_only_outputs, callbacks, tags, metadata, run_name, include_run_info)\u001b[39m\n\u001b[32m    378\u001b[39m \u001b[38;5;250m\u001b[39m\u001b[33;03m\"\"\"Execute the chain.\u001b[39;00m\n\u001b[32m    379\u001b[39m \n\u001b[32m    380\u001b[39m \u001b[33;03mArgs:\u001b[39;00m\n\u001b[32m   (...)\u001b[39m\u001b[32m    401\u001b[39m \u001b[33;03m        `Chain.output_keys`.\u001b[39;00m\n\u001b[32m    402\u001b[39m \u001b[33;03m\"\"\"\u001b[39;00m\n\u001b[32m    403\u001b[39m config = {\n\u001b[32m    404\u001b[39m     \u001b[33m\"\u001b[39m\u001b[33mcallbacks\u001b[39m\u001b[33m\"\u001b[39m: callbacks,\n\u001b[32m    405\u001b[39m     \u001b[33m\"\u001b[39m\u001b[33mtags\u001b[39m\u001b[33m\"\u001b[39m: tags,\n\u001b[32m    406\u001b[39m     \u001b[33m\"\u001b[39m\u001b[33mmetadata\u001b[39m\u001b[33m\"\u001b[39m: metadata,\n\u001b[32m    407\u001b[39m     \u001b[33m\"\u001b[39m\u001b[33mrun_name\u001b[39m\u001b[33m\"\u001b[39m: run_name,\n\u001b[32m    408\u001b[39m }\n\u001b[32m--> \u001b[39m\u001b[32m410\u001b[39m \u001b[38;5;28;01mreturn\u001b[39;00m \u001b[38;5;28;43mself\u001b[39;49m\u001b[43m.\u001b[49m\u001b[43minvoke\u001b[49m\u001b[43m(\u001b[49m\n\u001b[32m    411\u001b[39m \u001b[43m    \u001b[49m\u001b[43minputs\u001b[49m\u001b[43m,\u001b[49m\n\u001b[32m    412\u001b[39m \u001b[43m    \u001b[49m\u001b[43mcast\u001b[49m\u001b[43m(\u001b[49m\u001b[43mRunnableConfig\u001b[49m\u001b[43m,\u001b[49m\u001b[43m \u001b[49m\u001b[43m{\u001b[49m\u001b[43mk\u001b[49m\u001b[43m:\u001b[49m\u001b[43m \u001b[49m\u001b[43mv\u001b[49m\u001b[43m \u001b[49m\u001b[38;5;28;43;01mfor\u001b[39;49;00m\u001b[43m \u001b[49m\u001b[43mk\u001b[49m\u001b[43m,\u001b[49m\u001b[43m \u001b[49m\u001b[43mv\u001b[49m\u001b[43m \u001b[49m\u001b[38;5;129;43;01min\u001b[39;49;00m\u001b[43m \u001b[49m\u001b[43mconfig\u001b[49m\u001b[43m.\u001b[49m\u001b[43mitems\u001b[49m\u001b[43m(\u001b[49m\u001b[43m)\u001b[49m\u001b[43m \u001b[49m\u001b[38;5;28;43;01mif\u001b[39;49;00m\u001b[43m \u001b[49m\u001b[43mv\u001b[49m\u001b[43m \u001b[49m\u001b[38;5;129;43;01mis\u001b[39;49;00m\u001b[43m \u001b[49m\u001b[38;5;129;43;01mnot\u001b[39;49;00m\u001b[43m \u001b[49m\u001b[38;5;28;43;01mNone\u001b[39;49;00m\u001b[43m}\u001b[49m\u001b[43m)\u001b[49m\u001b[43m,\u001b[49m\n\u001b[32m    413\u001b[39m \u001b[43m    \u001b[49m\u001b[43mreturn_only_outputs\u001b[49m\u001b[43m=\u001b[49m\u001b[43mreturn_only_outputs\u001b[49m\u001b[43m,\u001b[49m\n\u001b[32m    414\u001b[39m \u001b[43m    \u001b[49m\u001b[43minclude_run_info\u001b[49m\u001b[43m=\u001b[49m\u001b[43minclude_run_info\u001b[49m\u001b[43m,\u001b[49m\n\u001b[32m    415\u001b[39m \u001b[43m\u001b[49m\u001b[43m)\u001b[49m\n",
      "\u001b[36mFile \u001b[39m\u001b[32mc:\\Users\\user\\miniconda3\\envs\\ragenv\\Lib\\site-packages\\langchain\\chains\\base.py:163\u001b[39m, in \u001b[36mChain.invoke\u001b[39m\u001b[34m(self, input, config, **kwargs)\u001b[39m\n\u001b[32m    156\u001b[39m run_manager = callback_manager.on_chain_start(\n\u001b[32m    157\u001b[39m     \u001b[38;5;28;01mNone\u001b[39;00m,\n\u001b[32m    158\u001b[39m     inputs,\n\u001b[32m    159\u001b[39m     run_id,\n\u001b[32m    160\u001b[39m     name=run_name,\n\u001b[32m    161\u001b[39m )\n\u001b[32m    162\u001b[39m \u001b[38;5;28;01mtry\u001b[39;00m:\n\u001b[32m--> \u001b[39m\u001b[32m163\u001b[39m     \u001b[38;5;28;43mself\u001b[39;49m\u001b[43m.\u001b[49m\u001b[43m_validate_inputs\u001b[49m\u001b[43m(\u001b[49m\u001b[43minputs\u001b[49m\u001b[43m)\u001b[49m\n\u001b[32m    164\u001b[39m     outputs = (\n\u001b[32m    165\u001b[39m         \u001b[38;5;28mself\u001b[39m._call(inputs, run_manager=run_manager)\n\u001b[32m    166\u001b[39m         \u001b[38;5;28;01mif\u001b[39;00m new_arg_supported\n\u001b[32m    167\u001b[39m         \u001b[38;5;28;01melse\u001b[39;00m \u001b[38;5;28mself\u001b[39m._call(inputs)\n\u001b[32m    168\u001b[39m     )\n\u001b[32m    170\u001b[39m     final_outputs: \u001b[38;5;28mdict\u001b[39m[\u001b[38;5;28mstr\u001b[39m, Any] = \u001b[38;5;28mself\u001b[39m.prep_outputs(\n\u001b[32m    171\u001b[39m         inputs,\n\u001b[32m    172\u001b[39m         outputs,\n\u001b[32m    173\u001b[39m         return_only_outputs,\n\u001b[32m    174\u001b[39m     )\n",
      "\u001b[36mFile \u001b[39m\u001b[32mc:\\Users\\user\\miniconda3\\envs\\ragenv\\Lib\\site-packages\\langchain\\chains\\base.py:307\u001b[39m, in \u001b[36mChain._validate_inputs\u001b[39m\u001b[34m(self, inputs)\u001b[39m\n\u001b[32m    305\u001b[39m \u001b[38;5;28;01mif\u001b[39;00m missing_keys:\n\u001b[32m    306\u001b[39m     msg = \u001b[33mf\u001b[39m\u001b[33m\"\u001b[39m\u001b[33mMissing some input keys: \u001b[39m\u001b[38;5;132;01m{\u001b[39;00mmissing_keys\u001b[38;5;132;01m}\u001b[39;00m\u001b[33m\"\u001b[39m\n\u001b[32m--> \u001b[39m\u001b[32m307\u001b[39m     \u001b[38;5;28;01mraise\u001b[39;00m \u001b[38;5;167;01mValueError\u001b[39;00m(msg)\n",
      "\u001b[31mValueError\u001b[39m: Missing some input keys: {'input'}"
     ]
    }
   ],
   "source": []
  },
  {
   "cell_type": "code",
   "execution_count": 19,
   "id": "74a19280",
   "metadata": {},
   "outputs": [],
   "source": [
    "def test_rag_chain(rag_chain):\n",
    "    \"\"\"\n",
    "    정의된 rag_chain에 여러 질문을 던져 응답과 선택된 retriever를 테스트하는 함수\n",
    "    \"\"\"\n",
    "    test_cases = [\n",
    "        (\"이전 경력(CV) 관련 질문\", \"내가 이전에 다녔던 회사명을 맞춰봐\"),\n",
    "        (\"지원 직무(JD) 관련 질문\", \"지원하려는 직무의 필수 자격 요건은 무엇인가요?\"),\n",
    "        (\"두 문서 통합(CV+JD) 관련 질문\", \"나의 경력 중 지원 직무와 가장 관련성이 높은 경험은 무엇이며, 그 이유는 무엇인가요?\")\n",
    "    ]\n",
    "    \n",
    "    for title, question in test_cases:\n",
    "        print(f'--- {title} ---')\n",
    "        print(f'[질문]: {question}')\n",
    "        \n",
    "        try:\n",
    "            # 반드시 {'input': 질문} 형태로 전달\n",
    "            response = rag_chain.invoke({\"input\": question})\n",
    "            \n",
    "            # MultiRetrievalQAChain의 출력 구조 확인\n",
    "            # 기본적으로 'output_text' 키가 존재\n",
    "            output_text = response.get(\"output_text\", \"응답을 찾을 수 없습니다.\")\n",
    "            used_retriever = response.get(\"destination\", \"정보 없음\")  # router가 선택한 retriever\n",
    "            \n",
    "            print(f'[응답]: {output_text}')\n",
    "            print(f'[선택된 리트리버]: {used_retriever}')\n",
    "            print('-' * 50)\n",
    "            \n",
    "        except Exception as e:\n",
    "            print(f'{title} 테스트 중 오류 발생: {e}')\n",
    "            print('-' * 50)\n",
    "\n",
    "    \n",
    "    print('--- 3. 두 문서 통합(CV+JD) 관련 질문 테스트 ---')\n",
    "    integrated_question = '나의 경력 중 지원 직무와 가장 관련성이 높은 경험은 무엇이며, 그 이유는 무엇인가요?'\n",
    "    print(f'[질문]: {integrated_question}')\n",
    "    \n",
    "    try:\n",
    "        # 'input' 키 및 올바른 들여쓰기 적용\n",
    "        integrated_response = rag_chain.invoke(integrated_question)\n",
    "        \n",
    "        print(f'[응답]: {integrated_response.get(\"result\", \"응답을 찾을 수 없습니다.\")}')\n",
    "        print(f'[선택된 리트리버]: {integrated_response.get(\"source_chain\", \"정보 없음\")}')\n",
    "        print('-' * 50)\n",
    "        \n",
    "    except Exception as e:\n",
    "        print(f'통합 질문 테스트 중 오류 발생: {e}')"
   ]
  },
  {
   "cell_type": "code",
   "execution_count": 20,
   "id": "ac88e616",
   "metadata": {},
   "outputs": [
    {
     "name": "stdout",
     "output_type": "stream",
     "text": [
      "--- 이전 경력(CV) 관련 질문 ---\n",
      "[질문]: 내가 이전에 다녔던 회사명을 맞춰봐\n",
      "이전 경력(CV) 관련 질문 테스트 중 오류 발생: Missing some input keys: {'input'}\n",
      "--------------------------------------------------\n",
      "--- 지원 직무(JD) 관련 질문 ---\n",
      "[질문]: 지원하려는 직무의 필수 자격 요건은 무엇인가요?\n",
      "지원 직무(JD) 관련 질문 테스트 중 오류 발생: Missing some input keys: {'input'}\n",
      "--------------------------------------------------\n",
      "--- 두 문서 통합(CV+JD) 관련 질문 ---\n",
      "[질문]: 나의 경력 중 지원 직무와 가장 관련성이 높은 경험은 무엇이며, 그 이유는 무엇인가요?\n",
      "두 문서 통합(CV+JD) 관련 질문 테스트 중 오류 발생: Missing some input keys: {'input'}\n",
      "--------------------------------------------------\n",
      "--- 3. 두 문서 통합(CV+JD) 관련 질문 테스트 ---\n",
      "[질문]: 나의 경력 중 지원 직무와 가장 관련성이 높은 경험은 무엇이며, 그 이유는 무엇인가요?\n",
      "통합 질문 테스트 중 오류 발생: Missing some input keys: {'input'}\n"
     ]
    }
   ],
   "source": [
    "test_rag_chain(rag_chain)"
   ]
  },
  {
   "cell_type": "markdown",
   "id": "4cecfacb-ba53-469c-8142-84ce57500719",
   "metadata": {
    "jp-MarkdownHeadingCollapsed": true
   },
   "source": [
    "## 4. 검색 → LLM에 컨텍스트 전달 → 응답 받기"
   ]
  },
  {
   "cell_type": "code",
   "execution_count": 31,
   "id": "8596d11f",
   "metadata": {},
   "outputs": [
    {
     "name": "stdout",
     "output_type": "stream",
     "text": [
      "당신이 다녔던 회사는 \"임팩티브에이아이\"입니다. 이 회사는 AI 솔루션 전문기업으로, 제품 수요 예측, 원자재 가격 예측 및 신제품 성과 예측 등 다양한 분야에서 기술력을 인정받고 있습니다.\n"
     ]
    }
   ],
   "source": [
    "client = OpenAI()\n",
    "response = client.chat.completions.create(\n",
    "    model='gpt-4o-mini', \n",
    "    messages=[\n",
    "        {'role': 'system', 'content': '다음 정보를 기반으로 사용자가 다녔던 회사를 알려주세요.'},\n",
    "        {'role': 'user', 'content': context + '\\n\\n질문: ' + query}\n",
    "    ]\n",
    ")\n",
    "\n",
    "print(response.choices[0].message.content)"
   ]
  },
  {
   "cell_type": "code",
   "execution_count": null,
   "id": "709ab707",
   "metadata": {},
   "outputs": [],
   "source": []
  }
 ],
 "metadata": {
  "kernelspec": {
   "display_name": "ragenv",
   "language": "python",
   "name": "python3"
  },
  "language_info": {
   "codemirror_mode": {
    "name": "ipython",
    "version": 3
   },
   "file_extension": ".py",
   "mimetype": "text/x-python",
   "name": "python",
   "nbconvert_exporter": "python",
   "pygments_lexer": "ipython3",
   "version": "3.13.7"
  }
 },
 "nbformat": 4,
 "nbformat_minor": 5
}
