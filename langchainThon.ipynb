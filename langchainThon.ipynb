{
 "cells": [
  {
   "cell_type": "code",
   "execution_count": 1,
   "id": "ad355284-e0cc-4b90-a93e-90d59d654c34",
   "metadata": {},
   "outputs": [],
   "source": [
    "from dotenv import load_dotenv\n",
    "import os\n",
    "\n",
    "# 1. 현재 경로의 .env 파일 로드\n",
    "load_dotenv()\n",
    "\n",
    "# 2. 환경 변수 읽기\n",
    "OPENAI_API_KEY = os.getenv(\"OPENAI_API_KEY\")"
   ]
  },
  {
   "cell_type": "code",
   "execution_count": 2,
   "id": "8b365c2f-4f58-4e1a-a92b-c8e3cd631dfc",
   "metadata": {},
   "outputs": [
    {
     "data": {
      "text/plain": [
       "ChatCompletion(id='chatcmpl-CTkOQb76BSTwFzt9pY9qiFLsqQp3r', choices=[Choice(finish_reason='stop', index=0, logprobs=None, message=ChatCompletionMessage(content=\"The Los Angeles Dodgers won the World Series in 2020. They defeated the Tampa Bay Rays in six games to secure the championship. This victory marked the Dodgers' first World Series title since 1988.\", refusal=None, role='assistant', annotations=[], audio=None, function_call=None, tool_calls=None))], created=1761205882, model='gpt-4o-mini-2024-07-18', object='chat.completion', service_tier='default', system_fingerprint='fp_560af6e559', usage=CompletionUsage(completion_tokens=42, prompt_tokens=17, total_tokens=59, completion_tokens_details=CompletionTokensDetails(accepted_prediction_tokens=0, audio_tokens=0, reasoning_tokens=0, rejected_prediction_tokens=0), prompt_tokens_details=PromptTokensDetails(audio_tokens=0, cached_tokens=0)))"
      ]
     },
     "execution_count": 2,
     "metadata": {},
     "output_type": "execute_result"
    }
   ],
   "source": [
    "from openai import OpenAI\n",
    "\n",
    "client = OpenAI(api_key=OPENAI_API_KEY)\n",
    "client.chat.completions.create(\n",
    "    model=\"gpt-4o-mini\",\n",
    "    messages=[\n",
    "        {\n",
    "            \"role\": \"user\", \n",
    "            \"content\": \"Who won the world series in 2020?\"\n",
    "        }\n",
    "    ]\n",
    ")"
   ]
  },
  {
   "cell_type": "code",
   "execution_count": 5,
   "id": "8620b5a3-1607-492d-bb2a-9dd160bfbd28",
   "metadata": {},
   "outputs": [],
   "source": [
    "from langchain_community.document_loaders import Docx2txtLoader"
   ]
  },
  {
   "cell_type": "code",
   "execution_count": 24,
   "id": "6885f599-b6b6-411d-88df-2b3709027597",
   "metadata": {},
   "outputs": [],
   "source": [
    "# 문서 로드\n",
    "loader = Docx2txtLoader(r'../data/langchainThon/cv/경력기술서_천승우.docx')\n",
    "pages = loader.load()"
   ]
  },
  {
   "cell_type": "code",
   "execution_count": 50,
   "id": "79bd8082-bb1c-4ef0-ac4c-2ac21d9d7cf6",
   "metadata": {},
   "outputs": [],
   "source": [
    "from langchain_text_splitters import CharacterTextSplitter\n",
    "\n",
    "text_splitter = CharacterTextSplitter(\n",
    "    separator=' ',\n",
    "    chunk_size=500,\n",
    "    chunk_overlap=50,\n",
    "    length_function=len,\n",
    "                 \n",
    ")"
   ]
  },
  {
   "cell_type": "code",
   "execution_count": 51,
   "id": "2ea43ca3-6c5b-4804-bee1-ce7b257d766e",
   "metadata": {},
   "outputs": [
    {
     "name": "stdout",
     "output_type": "stream",
     "text": [
      "page_content='경력기술서\n",
      "\n",
      "[개인 정보]\n",
      "\n",
      "이메일: fourleaves8@gmail.com\n",
      "\n",
      "연락처: 010-4788-7980\n",
      "\n",
      "\n",
      "\n",
      "[전문 분야]\n",
      "\n",
      "• 데이터 사이언스 \t\t • AI 엔지니어링\t\n",
      "\n",
      "• 데이터 분석 \t\t • 프롬프트 엔지니어링\n",
      "\n",
      "• 생물분자 및 화학공학 연구\n",
      "\n",
      "\n",
      "\n",
      "[요약]\n",
      "\n",
      "저는 생명·의학 데이터를 처리하고 분석 플랫폼을 구축한 경험 및 복잡한 데이터를 효율적으로 분석해 의사결정을 지원하는 역량을 갖추고 있습니다. Python 기반의 데이터 전처리, 알고리즘 고도화, 분류 및 예측 모델 개발을 통해 항암제 신규 적응증 탐색 플랫폼을 성공적으로 구현한 바 있습니다. 또한 데이터 수집·정규화·시각화 전 과정을 주도하며, 스타트업의 코스닥 상장 및 실제 제약사 프로젝트에 기여한 실무 경험을 쌓았습니다. \n",
      "\n",
      "\n",
      "\n",
      "[보유 역량 및 기술]\n",
      "\n",
      "프로그래밍 언어\n",
      "\n",
      "Python, R, SQL, Java\n",
      "\n",
      "도구 및 프레임워크\n",
      "\n",
      "pandas, NumPy, Matplotlib, seaborn, Plotly,' metadata={'source': '../data/langchainThon/cv/경력기술서_천승우.docx'}\n"
     ]
    }
   ],
   "source": [
    "texts = text_splitter.split_documents(pages)\n",
    "print(texts[0])"
   ]
  },
  {
   "cell_type": "code",
   "execution_count": 52,
   "id": "2083ac3f-de6a-4e8c-8289-d067b72d5548",
   "metadata": {},
   "outputs": [
    {
     "name": "stdout",
     "output_type": "stream",
     "text": [
      "page_content='프레임워크\n",
      "\n",
      "pandas, NumPy, Matplotlib, seaborn, Plotly, scikit-learn, PyTorch, TensorFlow, RAG, LangChain, MySQL, Oracle\n",
      "\n",
      "운영체제\n",
      "\n",
      "Linux(Ubuntu), Windows, macOS\n",
      "\n",
      "Palantir Foundry\n",
      "\n",
      "Pipeline Builder, Contour, Ontology(Action), Workshop, AIP, Dataset\n",
      "\n",
      "기타\n",
      "\n",
      "Vim / Vi, Git / GitHub, Bioinformatics Tools (Gene Set Enrichment Analysis, Bismark, Metilene, lifelines, survival, survminer, lifelines)\n",
      "\n",
      "\n",
      "\n",
      "[주요 경력 및 프로젝트]\n",
      "\n",
      "(주)온코크로스 · AI 연구소 · 주임연구원–전임연구원 · 2021.01–2024.12 (4년간 근무)\n",
      "\n",
      "\n",
      "\n",
      "<프로젝트1 : 항암제 신규 적응증 탐색 플랫폼 개발' metadata={'source': '../data/langchainThon/cv/경력기술서_천승우.docx'}\n"
     ]
    }
   ],
   "source": [
    "print(texts[1])"
   ]
  }
 ],
 "metadata": {
  "kernelspec": {
   "display_name": "Python 3 (ipykernel)",
   "language": "python",
   "name": "python3"
  },
  "language_info": {
   "codemirror_mode": {
    "name": "ipython",
    "version": 3
   },
   "file_extension": ".py",
   "mimetype": "text/x-python",
   "name": "python",
   "nbconvert_exporter": "python",
   "pygments_lexer": "ipython3",
   "version": "3.12.12"
  }
 },
 "nbformat": 4,
 "nbformat_minor": 5
}
